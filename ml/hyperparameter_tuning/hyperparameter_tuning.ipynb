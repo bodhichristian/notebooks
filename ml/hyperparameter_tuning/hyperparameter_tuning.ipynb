{
 "cells": [
  {
   "metadata": {},
   "cell_type": "markdown",
   "source": "# Hyperparameter Tuning",
   "id": "c337d2180b879180"
  },
  {
   "metadata": {},
   "cell_type": "markdown",
   "source": "Grid search and Random search are automated ways of tuning different hyperparameters. Both require a grid to sample from (which hyperparameter-value combinations), a cross-validation scheme, and a scoring function.",
   "id": "71e4bc32f92e7e4b"
  },
  {
   "metadata": {},
   "cell_type": "markdown",
   "source": "## Setup",
   "id": "a7fd04cd8ce72a99"
  },
  {
   "metadata": {
    "ExecuteTime": {
     "end_time": "2025-06-20T16:59:54.951023Z",
     "start_time": "2025-06-20T16:59:54.940755Z"
    }
   },
   "cell_type": "code",
   "source": [
    "import numpy as np\n",
    "import pandas as pd\n",
    "from matplotlib import pyplot as plt\n",
    "from itertools import product\n",
    "from sklearn.metrics import accuracy_score\n",
    "from sklearn.model_selection import train_test_split, GridSearchCV, RandomizedSearchCV\n",
    "from sklearn.ensemble import GradientBoostingClassifier, RandomForestClassifier\n",
    "from sklearn.metrics import accuracy_score"
   ],
   "id": "98b8ec59d2fe8aeb",
   "outputs": [],
   "execution_count": 103
  },
  {
   "metadata": {
    "ExecuteTime": {
     "end_time": "2025-06-20T16:59:54.975556Z",
     "start_time": "2025-06-20T16:59:54.958386Z"
    }
   },
   "cell_type": "code",
   "source": [
    "df = pd.read_csv('diabetes.csv')\n",
    "df.head()"
   ],
   "id": "5991c172bae9bd26",
   "outputs": [
    {
     "data": {
      "text/plain": [
       "   age   bmi  systolic_bp  diastolic_bp  cholesterol_level  glucose_level  \\\n",
       "0   56  33.4          159            79                205            151   \n",
       "1   69  27.5          135           104                245            146   \n",
       "2   46  43.0          132            66                224            145   \n",
       "3   32  41.0          110            73                292            107   \n",
       "4   60  16.4          112            68                181            140   \n",
       "\n",
       "   activity_level  family_history  smoking_status  diet_score  diabetes_risk  \n",
       "0             358               1               0          10              1  \n",
       "1             219               0               0           9              0  \n",
       "2             105               0               0          10              0  \n",
       "3             374               0               1           6              0  \n",
       "4              69               1               1           7              0  "
      ],
      "text/html": [
       "<div>\n",
       "<style scoped>\n",
       "    .dataframe tbody tr th:only-of-type {\n",
       "        vertical-align: middle;\n",
       "    }\n",
       "\n",
       "    .dataframe tbody tr th {\n",
       "        vertical-align: top;\n",
       "    }\n",
       "\n",
       "    .dataframe thead th {\n",
       "        text-align: right;\n",
       "    }\n",
       "</style>\n",
       "<table border=\"1\" class=\"dataframe\">\n",
       "  <thead>\n",
       "    <tr style=\"text-align: right;\">\n",
       "      <th></th>\n",
       "      <th>age</th>\n",
       "      <th>bmi</th>\n",
       "      <th>systolic_bp</th>\n",
       "      <th>diastolic_bp</th>\n",
       "      <th>cholesterol_level</th>\n",
       "      <th>glucose_level</th>\n",
       "      <th>activity_level</th>\n",
       "      <th>family_history</th>\n",
       "      <th>smoking_status</th>\n",
       "      <th>diet_score</th>\n",
       "      <th>diabetes_risk</th>\n",
       "    </tr>\n",
       "  </thead>\n",
       "  <tbody>\n",
       "    <tr>\n",
       "      <th>0</th>\n",
       "      <td>56</td>\n",
       "      <td>33.4</td>\n",
       "      <td>159</td>\n",
       "      <td>79</td>\n",
       "      <td>205</td>\n",
       "      <td>151</td>\n",
       "      <td>358</td>\n",
       "      <td>1</td>\n",
       "      <td>0</td>\n",
       "      <td>10</td>\n",
       "      <td>1</td>\n",
       "    </tr>\n",
       "    <tr>\n",
       "      <th>1</th>\n",
       "      <td>69</td>\n",
       "      <td>27.5</td>\n",
       "      <td>135</td>\n",
       "      <td>104</td>\n",
       "      <td>245</td>\n",
       "      <td>146</td>\n",
       "      <td>219</td>\n",
       "      <td>0</td>\n",
       "      <td>0</td>\n",
       "      <td>9</td>\n",
       "      <td>0</td>\n",
       "    </tr>\n",
       "    <tr>\n",
       "      <th>2</th>\n",
       "      <td>46</td>\n",
       "      <td>43.0</td>\n",
       "      <td>132</td>\n",
       "      <td>66</td>\n",
       "      <td>224</td>\n",
       "      <td>145</td>\n",
       "      <td>105</td>\n",
       "      <td>0</td>\n",
       "      <td>0</td>\n",
       "      <td>10</td>\n",
       "      <td>0</td>\n",
       "    </tr>\n",
       "    <tr>\n",
       "      <th>3</th>\n",
       "      <td>32</td>\n",
       "      <td>41.0</td>\n",
       "      <td>110</td>\n",
       "      <td>73</td>\n",
       "      <td>292</td>\n",
       "      <td>107</td>\n",
       "      <td>374</td>\n",
       "      <td>0</td>\n",
       "      <td>1</td>\n",
       "      <td>6</td>\n",
       "      <td>0</td>\n",
       "    </tr>\n",
       "    <tr>\n",
       "      <th>4</th>\n",
       "      <td>60</td>\n",
       "      <td>16.4</td>\n",
       "      <td>112</td>\n",
       "      <td>68</td>\n",
       "      <td>181</td>\n",
       "      <td>140</td>\n",
       "      <td>69</td>\n",
       "      <td>1</td>\n",
       "      <td>1</td>\n",
       "      <td>7</td>\n",
       "      <td>0</td>\n",
       "    </tr>\n",
       "  </tbody>\n",
       "</table>\n",
       "</div>"
      ]
     },
     "execution_count": 104,
     "metadata": {},
     "output_type": "execute_result"
    }
   ],
   "execution_count": 104
  },
  {
   "metadata": {},
   "cell_type": "markdown",
   "source": "## Train, test, split",
   "id": "8a17a36824b2b9d7"
  },
  {
   "metadata": {
    "ExecuteTime": {
     "end_time": "2025-06-20T16:59:54.985958Z",
     "start_time": "2025-06-20T16:59:54.980118Z"
    }
   },
   "cell_type": "code",
   "source": [
    "X = df.drop('diabetes_risk', axis=1)\n",
    "y = df['diabetes_risk']\n",
    "X_train, X_test, y_train, y_test = train_test_split(X, y, test_size=0.2, random_state=1)"
   ],
   "id": "51f8dbdf35d082",
   "outputs": [],
   "execution_count": 105
  },
  {
   "metadata": {},
   "cell_type": "markdown",
   "source": [
    "## Grid Search\n",
    "Grid Search exhaustively tries all combinations within the sample space. No sampling methodology is necessary.\n",
    "\n",
    "Grid Search is computational expensive, but guaranteed to find the best score in the sample space."
   ],
   "id": "4c965894728c3a46"
  },
  {
   "metadata": {},
   "cell_type": "markdown",
   "source": "## Manual Grid Search",
   "id": "715808faee7ae4a3"
  },
  {
   "metadata": {
    "ExecuteTime": {
     "end_time": "2025-06-20T16:59:54.991978Z",
     "start_time": "2025-06-20T16:59:54.990025Z"
    }
   },
   "cell_type": "code",
   "source": [
    "def gbm_grid_search(learn_rate, max_depth):\n",
    "    model = GradientBoostingClassifier(\n",
    "        learning_rate=learn_rate,\n",
    "        max_depth=max_depth,\n",
    "    )\n",
    "    predictions = model.fit(X_train, y_train).predict(X_test)\n",
    "    return [learn_rate, max_depth, accuracy_score(y_test, predictions)]"
   ],
   "id": "83509b108a7f7ceb",
   "outputs": [],
   "execution_count": 106
  },
  {
   "metadata": {
    "ExecuteTime": {
     "end_time": "2025-06-20T16:59:58.620880Z",
     "start_time": "2025-06-20T16:59:54.995940Z"
    }
   },
   "cell_type": "code",
   "source": [
    "learn_rates = [0.001, 0.01, 0.05]\n",
    "max_depths = [4,6,8,10]\n",
    "results_list = []\n",
    "\n",
    "for learn_rate in learn_rates:\n",
    "    for max_depth in max_depths:\n",
    "        results_list.append(gbm_grid_search(learn_rate, max_depth))\n",
    "\n",
    "results_df = pd.DataFrame(results_list, columns=['learn_rate', 'max_depth', 'accuracy'])\n",
    "\n",
    "results_df"
   ],
   "id": "8df5ad3e7fee7eae",
   "outputs": [
    {
     "data": {
      "text/plain": [
       "    learn_rate  max_depth  accuracy\n",
       "0        0.001          4     0.755\n",
       "1        0.001          6     0.790\n",
       "2        0.001          8     0.860\n",
       "3        0.001         10     0.860\n",
       "4        0.010          4     0.920\n",
       "5        0.010          6     0.860\n",
       "6        0.010          8     0.830\n",
       "7        0.010         10     0.855\n",
       "8        0.050          4     0.955\n",
       "9        0.050          6     0.915\n",
       "10       0.050          8     0.855\n",
       "11       0.050         10     0.850"
      ],
      "text/html": [
       "<div>\n",
       "<style scoped>\n",
       "    .dataframe tbody tr th:only-of-type {\n",
       "        vertical-align: middle;\n",
       "    }\n",
       "\n",
       "    .dataframe tbody tr th {\n",
       "        vertical-align: top;\n",
       "    }\n",
       "\n",
       "    .dataframe thead th {\n",
       "        text-align: right;\n",
       "    }\n",
       "</style>\n",
       "<table border=\"1\" class=\"dataframe\">\n",
       "  <thead>\n",
       "    <tr style=\"text-align: right;\">\n",
       "      <th></th>\n",
       "      <th>learn_rate</th>\n",
       "      <th>max_depth</th>\n",
       "      <th>accuracy</th>\n",
       "    </tr>\n",
       "  </thead>\n",
       "  <tbody>\n",
       "    <tr>\n",
       "      <th>0</th>\n",
       "      <td>0.001</td>\n",
       "      <td>4</td>\n",
       "      <td>0.755</td>\n",
       "    </tr>\n",
       "    <tr>\n",
       "      <th>1</th>\n",
       "      <td>0.001</td>\n",
       "      <td>6</td>\n",
       "      <td>0.790</td>\n",
       "    </tr>\n",
       "    <tr>\n",
       "      <th>2</th>\n",
       "      <td>0.001</td>\n",
       "      <td>8</td>\n",
       "      <td>0.860</td>\n",
       "    </tr>\n",
       "    <tr>\n",
       "      <th>3</th>\n",
       "      <td>0.001</td>\n",
       "      <td>10</td>\n",
       "      <td>0.860</td>\n",
       "    </tr>\n",
       "    <tr>\n",
       "      <th>4</th>\n",
       "      <td>0.010</td>\n",
       "      <td>4</td>\n",
       "      <td>0.920</td>\n",
       "    </tr>\n",
       "    <tr>\n",
       "      <th>5</th>\n",
       "      <td>0.010</td>\n",
       "      <td>6</td>\n",
       "      <td>0.860</td>\n",
       "    </tr>\n",
       "    <tr>\n",
       "      <th>6</th>\n",
       "      <td>0.010</td>\n",
       "      <td>8</td>\n",
       "      <td>0.830</td>\n",
       "    </tr>\n",
       "    <tr>\n",
       "      <th>7</th>\n",
       "      <td>0.010</td>\n",
       "      <td>10</td>\n",
       "      <td>0.855</td>\n",
       "    </tr>\n",
       "    <tr>\n",
       "      <th>8</th>\n",
       "      <td>0.050</td>\n",
       "      <td>4</td>\n",
       "      <td>0.955</td>\n",
       "    </tr>\n",
       "    <tr>\n",
       "      <th>9</th>\n",
       "      <td>0.050</td>\n",
       "      <td>6</td>\n",
       "      <td>0.915</td>\n",
       "    </tr>\n",
       "    <tr>\n",
       "      <th>10</th>\n",
       "      <td>0.050</td>\n",
       "      <td>8</td>\n",
       "      <td>0.855</td>\n",
       "    </tr>\n",
       "    <tr>\n",
       "      <th>11</th>\n",
       "      <td>0.050</td>\n",
       "      <td>10</td>\n",
       "      <td>0.850</td>\n",
       "    </tr>\n",
       "  </tbody>\n",
       "</table>\n",
       "</div>"
      ]
     },
     "execution_count": 107,
     "metadata": {},
     "output_type": "execute_result"
    }
   ],
   "execution_count": 107
  },
  {
   "metadata": {},
   "cell_type": "markdown",
   "source": [
    "## Grid Search with Scikit Learn\n",
    "\n",
    "Three steps.\n",
    "1. Select an algorithm to tune the hyperparameters (sometimes referred to as an estimator)\n",
    "2. Define hyperparameters to tune\n",
    "3. Define range of values for hyperparameters\n",
    "4. Set a cross-validation scheme and scoring function"
   ],
   "id": "e24c9879b3479933"
  },
  {
   "metadata": {},
   "cell_type": "markdown",
   "source": "## Create a GridSearchCV object",
   "id": "131ff78b5880942e"
  },
  {
   "metadata": {
    "ExecuteTime": {
     "end_time": "2025-06-20T17:00:04.945805Z",
     "start_time": "2025-06-20T16:59:58.625672Z"
    }
   },
   "cell_type": "code",
   "source": [
    "# create the grid\n",
    "param_grid= {'max_depth': [2, 4, 6, 8], 'min_samples_leaf': [1, 2, 4, 6]}\n",
    "\n",
    "# create a base classifier\n",
    "rf_class = RandomForestClassifier(criterion='entropy', max_features=None)\n",
    "\n",
    "grid_rf_class = GridSearchCV(\n",
    "    estimator=rf_class,\n",
    "    param_grid=param_grid,\n",
    "    scoring='accuracy',\n",
    "    n_jobs=4,\n",
    "    cv = 10,\n",
    "    refit=True, # enables direct use of the object as an estimator\n",
    "    return_train_score=True\n",
    ")\n",
    "\n",
    "# fit the estimator to the data\n",
    "grid_rf_class.fit(X_train, y_train)\n",
    "\n",
    "# make predictions\n",
    "predictions = grid_rf_class.predict(X_test)\n",
    "\n",
    "# calculate accuracy\n",
    "print(accuracy_score(y_test, predictions))"
   ],
   "id": "8d5c32338088eda",
   "outputs": [
    {
     "name": "stdout",
     "output_type": "stream",
     "text": [
      "0.92\n"
     ]
    }
   ],
   "execution_count": 108
  },
  {
   "metadata": {},
   "cell_type": "markdown",
   "source": [
    "## Analyze GridSearchCV output\n",
    "\n",
    "GridSearchCV properties\n",
    "\n",
    "Results log:\n",
    "- cv_results_\n",
    "\n",
    "Best results:\n",
    "- best_index_, best_params_, best_score_\n",
    "\n",
    "Extra information:\n",
    "- scorer_, n_splits_, refit_time_"
   ],
   "id": "e4cb5e9f12f4475f"
  },
  {
   "metadata": {},
   "cell_type": "markdown",
   "source": "### cv_results_",
   "id": "c53e184c49eb4bc6"
  },
  {
   "metadata": {
    "ExecuteTime": {
     "end_time": "2025-06-20T17:00:04.959413Z",
     "start_time": "2025-06-20T17:00:04.950616Z"
    }
   },
   "cell_type": "code",
   "source": [
    "results = grid_rf_class.cv_results_ # A dictionary of results for each model created\n",
    "results_df = pd.DataFrame(results)\n",
    "\n",
    "results_df.head()"
   ],
   "id": "b9085c9189808738",
   "outputs": [
    {
     "data": {
      "text/plain": [
       "   mean_fit_time  std_fit_time  mean_score_time  std_score_time  \\\n",
       "0       0.093711      0.004449         0.003048        0.000135   \n",
       "1       0.089733      0.000653         0.002977        0.000131   \n",
       "2       0.090111      0.001060         0.002953        0.000060   \n",
       "3       0.089366      0.000726         0.002906        0.000098   \n",
       "4       0.139609      0.001644         0.003087        0.000101   \n",
       "\n",
       "   param_max_depth  param_min_samples_leaf  \\\n",
       "0                2                       1   \n",
       "1                2                       2   \n",
       "2                2                       4   \n",
       "3                2                       6   \n",
       "4                4                       1   \n",
       "\n",
       "                                    params  split0_test_score  \\\n",
       "0  {'max_depth': 2, 'min_samples_leaf': 1}             0.6750   \n",
       "1  {'max_depth': 2, 'min_samples_leaf': 2}             0.6625   \n",
       "2  {'max_depth': 2, 'min_samples_leaf': 4}             0.7125   \n",
       "3  {'max_depth': 2, 'min_samples_leaf': 6}             0.6750   \n",
       "4  {'max_depth': 4, 'min_samples_leaf': 1}             0.8375   \n",
       "\n",
       "   split1_test_score  split2_test_score  ...  split2_train_score  \\\n",
       "0             0.7875             0.7500  ...            0.794444   \n",
       "1             0.8000             0.7875  ...            0.811111   \n",
       "2             0.7500             0.8000  ...            0.811111   \n",
       "3             0.7875             0.8125  ...            0.831944   \n",
       "4             0.8250             0.8875  ...            0.926389   \n",
       "\n",
       "   split3_train_score  split4_train_score  split5_train_score  \\\n",
       "0            0.829167            0.786111            0.829167   \n",
       "1            0.827778            0.833333            0.855556   \n",
       "2            0.825000            0.804167            0.815278   \n",
       "3            0.829167            0.825000            0.818056   \n",
       "4            0.941667            0.930556            0.947222   \n",
       "\n",
       "   split6_train_score  split7_train_score  split8_train_score  \\\n",
       "0            0.794444            0.826389            0.830556   \n",
       "1            0.834722            0.831944            0.837500   \n",
       "2            0.831944            0.831944            0.834722   \n",
       "3            0.848611            0.819444            0.843056   \n",
       "4            0.923611            0.933333            0.918056   \n",
       "\n",
       "   split9_train_score  mean_train_score  std_train_score  \n",
       "0            0.845833          0.812917         0.021337  \n",
       "1            0.868056          0.832222         0.019679  \n",
       "2            0.834722          0.819861         0.012776  \n",
       "3            0.829167          0.827222         0.013766  \n",
       "4            0.934722          0.932778         0.010618  \n",
       "\n",
       "[5 rows x 32 columns]"
      ],
      "text/html": [
       "<div>\n",
       "<style scoped>\n",
       "    .dataframe tbody tr th:only-of-type {\n",
       "        vertical-align: middle;\n",
       "    }\n",
       "\n",
       "    .dataframe tbody tr th {\n",
       "        vertical-align: top;\n",
       "    }\n",
       "\n",
       "    .dataframe thead th {\n",
       "        text-align: right;\n",
       "    }\n",
       "</style>\n",
       "<table border=\"1\" class=\"dataframe\">\n",
       "  <thead>\n",
       "    <tr style=\"text-align: right;\">\n",
       "      <th></th>\n",
       "      <th>mean_fit_time</th>\n",
       "      <th>std_fit_time</th>\n",
       "      <th>mean_score_time</th>\n",
       "      <th>std_score_time</th>\n",
       "      <th>param_max_depth</th>\n",
       "      <th>param_min_samples_leaf</th>\n",
       "      <th>params</th>\n",
       "      <th>split0_test_score</th>\n",
       "      <th>split1_test_score</th>\n",
       "      <th>split2_test_score</th>\n",
       "      <th>...</th>\n",
       "      <th>split2_train_score</th>\n",
       "      <th>split3_train_score</th>\n",
       "      <th>split4_train_score</th>\n",
       "      <th>split5_train_score</th>\n",
       "      <th>split6_train_score</th>\n",
       "      <th>split7_train_score</th>\n",
       "      <th>split8_train_score</th>\n",
       "      <th>split9_train_score</th>\n",
       "      <th>mean_train_score</th>\n",
       "      <th>std_train_score</th>\n",
       "    </tr>\n",
       "  </thead>\n",
       "  <tbody>\n",
       "    <tr>\n",
       "      <th>0</th>\n",
       "      <td>0.093711</td>\n",
       "      <td>0.004449</td>\n",
       "      <td>0.003048</td>\n",
       "      <td>0.000135</td>\n",
       "      <td>2</td>\n",
       "      <td>1</td>\n",
       "      <td>{'max_depth': 2, 'min_samples_leaf': 1}</td>\n",
       "      <td>0.6750</td>\n",
       "      <td>0.7875</td>\n",
       "      <td>0.7500</td>\n",
       "      <td>...</td>\n",
       "      <td>0.794444</td>\n",
       "      <td>0.829167</td>\n",
       "      <td>0.786111</td>\n",
       "      <td>0.829167</td>\n",
       "      <td>0.794444</td>\n",
       "      <td>0.826389</td>\n",
       "      <td>0.830556</td>\n",
       "      <td>0.845833</td>\n",
       "      <td>0.812917</td>\n",
       "      <td>0.021337</td>\n",
       "    </tr>\n",
       "    <tr>\n",
       "      <th>1</th>\n",
       "      <td>0.089733</td>\n",
       "      <td>0.000653</td>\n",
       "      <td>0.002977</td>\n",
       "      <td>0.000131</td>\n",
       "      <td>2</td>\n",
       "      <td>2</td>\n",
       "      <td>{'max_depth': 2, 'min_samples_leaf': 2}</td>\n",
       "      <td>0.6625</td>\n",
       "      <td>0.8000</td>\n",
       "      <td>0.7875</td>\n",
       "      <td>...</td>\n",
       "      <td>0.811111</td>\n",
       "      <td>0.827778</td>\n",
       "      <td>0.833333</td>\n",
       "      <td>0.855556</td>\n",
       "      <td>0.834722</td>\n",
       "      <td>0.831944</td>\n",
       "      <td>0.837500</td>\n",
       "      <td>0.868056</td>\n",
       "      <td>0.832222</td>\n",
       "      <td>0.019679</td>\n",
       "    </tr>\n",
       "    <tr>\n",
       "      <th>2</th>\n",
       "      <td>0.090111</td>\n",
       "      <td>0.001060</td>\n",
       "      <td>0.002953</td>\n",
       "      <td>0.000060</td>\n",
       "      <td>2</td>\n",
       "      <td>4</td>\n",
       "      <td>{'max_depth': 2, 'min_samples_leaf': 4}</td>\n",
       "      <td>0.7125</td>\n",
       "      <td>0.7500</td>\n",
       "      <td>0.8000</td>\n",
       "      <td>...</td>\n",
       "      <td>0.811111</td>\n",
       "      <td>0.825000</td>\n",
       "      <td>0.804167</td>\n",
       "      <td>0.815278</td>\n",
       "      <td>0.831944</td>\n",
       "      <td>0.831944</td>\n",
       "      <td>0.834722</td>\n",
       "      <td>0.834722</td>\n",
       "      <td>0.819861</td>\n",
       "      <td>0.012776</td>\n",
       "    </tr>\n",
       "    <tr>\n",
       "      <th>3</th>\n",
       "      <td>0.089366</td>\n",
       "      <td>0.000726</td>\n",
       "      <td>0.002906</td>\n",
       "      <td>0.000098</td>\n",
       "      <td>2</td>\n",
       "      <td>6</td>\n",
       "      <td>{'max_depth': 2, 'min_samples_leaf': 6}</td>\n",
       "      <td>0.6750</td>\n",
       "      <td>0.7875</td>\n",
       "      <td>0.8125</td>\n",
       "      <td>...</td>\n",
       "      <td>0.831944</td>\n",
       "      <td>0.829167</td>\n",
       "      <td>0.825000</td>\n",
       "      <td>0.818056</td>\n",
       "      <td>0.848611</td>\n",
       "      <td>0.819444</td>\n",
       "      <td>0.843056</td>\n",
       "      <td>0.829167</td>\n",
       "      <td>0.827222</td>\n",
       "      <td>0.013766</td>\n",
       "    </tr>\n",
       "    <tr>\n",
       "      <th>4</th>\n",
       "      <td>0.139609</td>\n",
       "      <td>0.001644</td>\n",
       "      <td>0.003087</td>\n",
       "      <td>0.000101</td>\n",
       "      <td>4</td>\n",
       "      <td>1</td>\n",
       "      <td>{'max_depth': 4, 'min_samples_leaf': 1}</td>\n",
       "      <td>0.8375</td>\n",
       "      <td>0.8250</td>\n",
       "      <td>0.8875</td>\n",
       "      <td>...</td>\n",
       "      <td>0.926389</td>\n",
       "      <td>0.941667</td>\n",
       "      <td>0.930556</td>\n",
       "      <td>0.947222</td>\n",
       "      <td>0.923611</td>\n",
       "      <td>0.933333</td>\n",
       "      <td>0.918056</td>\n",
       "      <td>0.934722</td>\n",
       "      <td>0.932778</td>\n",
       "      <td>0.010618</td>\n",
       "    </tr>\n",
       "  </tbody>\n",
       "</table>\n",
       "<p>5 rows × 32 columns</p>\n",
       "</div>"
      ]
     },
     "execution_count": 109,
     "metadata": {},
     "output_type": "execute_result"
    }
   ],
   "execution_count": 109
  },
  {
   "metadata": {},
   "cell_type": "markdown",
   "source": [
    "## Random Search\n",
    "Random Search randomly selects a subset of combinations within the provided sample space. Uniform is the default sampling methodology, though others can be selected.\n",
    "\n",
    "Random Search is less computationally expensive, but likely to find a *good* one *faster*."
   ],
   "id": "827772032e600a29"
  },
  {
   "metadata": {},
   "cell_type": "markdown",
   "source": "### Manual Random Search",
   "id": "3372732ff2d90c46"
  },
  {
   "metadata": {
    "ExecuteTime": {
     "end_time": "2025-06-20T17:00:04.970233Z",
     "start_time": "2025-06-20T17:00:04.967579Z"
    }
   },
   "cell_type": "code",
   "source": [
    "# set hyperparameter limits\n",
    "learn_rates_list = np.linspace(0.001, 2, 150)\n",
    "min_samples_leaf_list = list(range(1,51))\n",
    "\n",
    "# create a list of combinations\n",
    "combinations_list = [list(x) for x in product(learn_rates, min_samples_leaf_list)]\n",
    "\n",
    "# randomly select 100 models\n",
    "random_combinations_index = np.random.choice(\n",
    "    range(0,len(combinations_list)), 100,\n",
    "    replace=False)\n",
    "\n",
    "selected_combinations = [combinations_list[x] for x in random_combinations_index]\n",
    "print(selected_combinations)"
   ],
   "id": "b553ba91b0ff3595",
   "outputs": [
    {
     "name": "stdout",
     "output_type": "stream",
     "text": [
      "[[0.001, 49], [0.01, 29], [0.001, 29], [0.05, 1], [0.05, 36], [0.001, 1], [0.001, 28], [0.05, 31], [0.001, 15], [0.001, 5], [0.01, 42], [0.001, 20], [0.01, 48], [0.001, 35], [0.01, 14], [0.05, 3], [0.01, 38], [0.01, 26], [0.05, 14], [0.001, 31], [0.01, 30], [0.01, 41], [0.001, 21], [0.001, 33], [0.05, 2], [0.01, 45], [0.05, 9], [0.05, 18], [0.01, 3], [0.05, 10], [0.05, 30], [0.001, 9], [0.001, 24], [0.01, 24], [0.001, 6], [0.01, 13], [0.001, 3], [0.05, 26], [0.01, 46], [0.001, 45], [0.05, 50], [0.05, 42], [0.01, 28], [0.001, 25], [0.05, 46], [0.001, 10], [0.05, 16], [0.001, 17], [0.01, 19], [0.001, 50], [0.001, 4], [0.01, 36], [0.001, 18], [0.001, 13], [0.01, 2], [0.01, 11], [0.05, 4], [0.01, 21], [0.001, 16], [0.01, 22], [0.01, 15], [0.05, 23], [0.05, 34], [0.01, 23], [0.05, 29], [0.001, 12], [0.05, 43], [0.01, 18], [0.01, 20], [0.05, 28], [0.001, 44], [0.001, 23], [0.05, 41], [0.01, 5], [0.001, 7], [0.05, 17], [0.01, 1], [0.05, 8], [0.05, 11], [0.01, 39], [0.001, 11], [0.01, 31], [0.05, 15], [0.05, 25], [0.001, 14], [0.05, 39], [0.05, 40], [0.001, 43], [0.01, 40], [0.01, 32], [0.01, 37], [0.01, 43], [0.01, 7], [0.01, 35], [0.001, 36], [0.01, 4], [0.05, 7], [0.01, 27], [0.001, 8], [0.01, 16]]\n"
     ]
    }
   ],
   "execution_count": 110
  },
  {
   "metadata": {},
   "cell_type": "markdown",
   "source": "### Random Search with Scikit Learn",
   "id": "31982fe483c32f98"
  },
  {
   "metadata": {},
   "cell_type": "markdown",
   "source": "When working with RandomSearchCV, there is only one extra step compared to GridSearchCV: decide the number of samples to take.",
   "id": "f299d4ae63619857"
  },
  {
   "metadata": {
    "ExecuteTime": {
     "end_time": "2025-06-20T17:00:07.209188Z",
     "start_time": "2025-06-20T17:00:04.981932Z"
    }
   },
   "cell_type": "code",
   "source": [
    "random_rf_class = RandomizedSearchCV(\n",
    "    estimator=rf_class,\n",
    "    param_distributions=param_grid,\n",
    "    n_iter=10,\n",
    "    scoring='accuracy',\n",
    "    n_jobs=4,\n",
    "    refit=True,\n",
    "    return_train_score=True,\n",
    "    random_state=11,\n",
    "    cv=5\n",
    ")\n",
    "\n",
    "random_rf_class.fit(X_train, y_train)\n",
    "predictions = random_rf_class.predict(X_test)\n",
    "print(accuracy_score(y_test, predictions))"
   ],
   "id": "78e5788a6ff51c9a",
   "outputs": [
    {
     "name": "stdout",
     "output_type": "stream",
     "text": [
      "0.91\n"
     ]
    }
   ],
   "execution_count": 111
  },
  {
   "metadata": {},
   "cell_type": "markdown",
   "source": [
    "Key differences between GridSearchCV and RandomizedSearchCV:\n",
    "- n_iter takes the number of samples for the random search to take from the grid\n",
    "- param_distributions allows for the optional ability to set a distribution for sampling."
   ],
   "id": "1a80b9f05fb4f6d1"
  },
  {
   "metadata": {},
   "cell_type": "markdown",
   "source": "## Visualize results",
   "id": "29ebd5f3c10408b8"
  },
  {
   "metadata": {
    "ExecuteTime": {
     "end_time": "2025-06-20T17:00:07.224567Z",
     "start_time": "2025-06-20T17:00:07.219994Z"
    }
   },
   "cell_type": "code",
   "source": "random_rf_class.cv_results_",
   "id": "8325d714dba57fd6",
   "outputs": [
    {
     "data": {
      "text/plain": [
       "{'mean_fit_time': array([0.16131544, 0.08549485, 0.12773767, 0.15141554, 0.14762268,\n",
       "        0.13174238, 0.13158917, 0.1554997 , 0.11712437, 0.23895397]),\n",
       " 'std_fit_time': array([0.00205635, 0.00057176, 0.00039219, 0.00126014, 0.00091755,\n",
       "        0.00089878, 0.00127661, 0.00133768, 0.04417765, 0.05709395]),\n",
       " 'mean_score_time': array([0.00359755, 0.00301318, 0.0033524 , 0.00366473, 0.00363793,\n",
       "        0.00340323, 0.00347476, 0.00361824, 0.00523005, 0.0040226 ]),\n",
       " 'std_score_time': array([1.77008697e-04, 9.51267304e-05, 3.08267017e-05, 8.88475720e-05,\n",
       "        1.63622945e-04, 1.38973975e-04, 7.00048918e-05, 4.62229620e-05,\n",
       "        3.19440690e-03, 5.78781085e-04]),\n",
       " 'param_min_samples_leaf': masked_array(data=[1, 6, 4, 4, 6, 1, 2, 4, 4, 2],\n",
       "              mask=[False, False, False, False, False, False, False, False,\n",
       "                    False, False],\n",
       "        fill_value=999999),\n",
       " 'param_max_depth': masked_array(data=[6, 2, 4, 6, 8, 4, 4, 8, 2, 8],\n",
       "              mask=[False, False, False, False, False, False, False, False,\n",
       "                    False, False],\n",
       "        fill_value=999999),\n",
       " 'params': [{'min_samples_leaf': 1, 'max_depth': 6},\n",
       "  {'min_samples_leaf': 6, 'max_depth': 2},\n",
       "  {'min_samples_leaf': 4, 'max_depth': 4},\n",
       "  {'min_samples_leaf': 4, 'max_depth': 6},\n",
       "  {'min_samples_leaf': 6, 'max_depth': 8},\n",
       "  {'min_samples_leaf': 1, 'max_depth': 4},\n",
       "  {'min_samples_leaf': 2, 'max_depth': 4},\n",
       "  {'min_samples_leaf': 4, 'max_depth': 8},\n",
       "  {'min_samples_leaf': 4, 'max_depth': 2},\n",
       "  {'min_samples_leaf': 2, 'max_depth': 8}],\n",
       " 'split0_test_score': array([0.85625, 0.65625, 0.81875, 0.88125, 0.8875 , 0.83125, 0.8125 ,\n",
       "        0.88125, 0.68125, 0.88125]),\n",
       " 'split1_test_score': array([0.925  , 0.8125 , 0.91875, 0.925  , 0.95   , 0.89375, 0.8875 ,\n",
       "        0.9375 , 0.79375, 0.925  ]),\n",
       " 'split2_test_score': array([0.85625, 0.825  , 0.875  , 0.8625 , 0.88125, 0.875  , 0.89375,\n",
       "        0.8875 , 0.83125, 0.8625 ]),\n",
       " 'split3_test_score': array([0.85625, 0.8    , 0.825  , 0.86875, 0.875  , 0.8375 , 0.83125,\n",
       "        0.86875, 0.825  , 0.85625]),\n",
       " 'split4_test_score': array([0.8625 , 0.71875, 0.79375, 0.85   , 0.8375 , 0.80625, 0.80625,\n",
       "        0.8625 , 0.73125, 0.86875]),\n",
       " 'mean_test_score': array([0.87125, 0.7625 , 0.84625, 0.8775 , 0.88625, 0.84875, 0.84625,\n",
       "        0.8875 , 0.7725 , 0.87875]),\n",
       " 'std_test_score': array([0.02698379, 0.06483151, 0.04482605, 0.02579971, 0.0363146 ,\n",
       "        0.0314742 , 0.03720719, 0.0265165 , 0.0577711 , 0.0245586 ]),\n",
       " 'rank_test_score': array([ 5, 10,  7,  4,  2,  6,  7,  1,  9,  3], dtype=int32),\n",
       " 'split0_train_score': array([0.9984375, 0.76875  , 0.93125  , 0.9859375, 0.9765625, 0.934375 ,\n",
       "        0.9359375, 0.9890625, 0.765625 , 1.       ]),\n",
       " 'split1_train_score': array([0.9953125, 0.828125 , 0.9359375, 0.9859375, 0.9796875, 0.915625 ,\n",
       "        0.915625 , 0.990625 , 0.7921875, 1.       ]),\n",
       " 'split2_train_score': array([0.99375  , 0.84375  , 0.93125  , 0.9890625, 0.9828125, 0.953125 ,\n",
       "        0.953125 , 0.99375  , 0.8140625, 1.       ]),\n",
       " 'split3_train_score': array([0.9984375, 0.853125 , 0.9421875, 0.9875   , 0.9765625, 0.940625 ,\n",
       "        0.9421875, 0.9890625, 0.8546875, 1.       ]),\n",
       " 'split4_train_score': array([0.9984375, 0.84375  , 0.9234375, 0.9859375, 0.96875  , 0.934375 ,\n",
       "        0.9265625, 0.9890625, 0.8515625, 1.       ]),\n",
       " 'mean_train_score': array([0.996875 , 0.8275   , 0.9328125, 0.986875 , 0.976875 , 0.935625 ,\n",
       "        0.9346875, 0.9903125, 0.815625 , 1.       ]),\n",
       " 'std_train_score': array([0.00197642, 0.03045232, 0.00617138, 0.00125   , 0.00467707,\n",
       "        0.0121192 , 0.01286195, 0.00182217, 0.03426118, 0.        ])}"
      ]
     },
     "execution_count": 112,
     "metadata": {},
     "output_type": "execute_result"
    }
   ],
   "execution_count": 112
  },
  {
   "metadata": {
    "ExecuteTime": {
     "end_time": "2025-06-20T17:00:07.280754Z",
     "start_time": "2025-06-20T17:00:07.235716Z"
    }
   },
   "cell_type": "code",
   "source": [
    "rand_x = list(random_rf_class.cv_results_['std_fit_time'])\n",
    "rand_y = list(random_rf_class.cv_results_['param_min_samples_leaf'])\n",
    "\n",
    "x_lims = [np.min(learn_rates_list), np.max(learn_rates_list)]\n",
    "y_lims = [np.min(min_samples_leaf_list), np.max(min_samples_leaf_list)]\n",
    "\n",
    "plt.scatter(rand_y, rand_x, c=['blue']*10)\n",
    "plt.gca().set(xlabel='std_fit_time', ylabel='min_samples_leaf', title='Random Search Hyperparameters')\n",
    "plt.show()\n"
   ],
   "id": "a2fb38d9874ee9b6",
   "outputs": [
    {
     "data": {
      "text/plain": [
       "<Figure size 640x480 with 1 Axes>"
      ],
      "image/png": "[encoded data removed]"
     },
     "metadata": {},
     "output_type": "display_data"
    }
   ],
   "execution_count": 113
  },
  {
   "metadata": {},
   "cell_type": "markdown",
   "source": [
    "## Considerations\n",
    "Random search may be more valuable than Grid Search if:\n",
    "- There is a large quantity of data\n",
    "- There are a large number of hyperparameter-value combinations\n",
    "- There is limited computational resources"
   ],
   "id": "122d14a136564ce5"
  },
  {
   "metadata": {},
   "cell_type": "markdown",
   "source": [
    "## Informed Search\n",
    "\n",
    "*Coarse to Fine Tuning:* Start with a rough, random approach and iteratively refine the search. This leverages and balances the benefits provided by Grid Search and Random Search.\n",
    "\n",
    "Process:\n",
    "1. Random search\n",
    "2. Find promising areas\n",
    "3. Grid search the smaller area\n",
    "4. Continue until optimal score obtained\n"
   ],
   "id": "51c6f45ed9ba79e"
  },
  {
   "metadata": {},
   "cell_type": "markdown",
   "source": "",
   "id": "1b86592ad93eaf7c"
  },
  {
   "metadata": {
    "ExecuteTime": {
     "end_time": "2025-06-20T17:00:07.285832Z",
     "start_time": "2025-06-20T17:00:07.284516Z"
    }
   },
   "cell_type": "code",
   "source": "",
   "id": "cb32c1b5b9ab11cc",
   "outputs": [],
   "execution_count": null
  }
 ],
 "metadata": {
  "kernelspec": {
   "display_name": "Python 3",
   "language": "python",
   "name": "python3"
  },
  "language_info": {
   "codemirror_mode": {
    "name": "ipython",
    "version": 2
   },
   "file_extension": ".py",
   "mimetype": "text/x-python",
   "name": "python",
   "nbconvert_exporter": "python",
   "pygments_lexer": "ipython2",
   "version": "2.7.6"
  }
 },
 "nbformat": 4,
 "nbformat_minor": 5
}
