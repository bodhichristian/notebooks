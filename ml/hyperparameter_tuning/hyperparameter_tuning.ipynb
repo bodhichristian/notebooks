{
 "cells": [
  {
   "metadata": {},
   "cell_type": "markdown",
   "source": "# Hyperparameter Tuning",
   "id": "c337d2180b879180"
  },
  {
   "metadata": {},
   "cell_type": "markdown",
   "source": "Grid search and Random search are automated ways of tuning different hyperparameters. Both require a grid to sample from (which hyperparameter-value combinations), a cross-validation scheme, and a scoring function.",
   "id": "71e4bc32f92e7e4b"
  },
  {
   "metadata": {},
   "cell_type": "markdown",
   "source": [
    "## Grid Search\n",
    "Grid Search exhaustively tries all combinations within the sample space. No sampling methodology is necessary.\n",
    "\n",
    "Grid Search is computational expensive, but guaranteed to find the best score in the sample space."
   ],
   "id": "4c965894728c3a46"
  },
  {
   "metadata": {},
   "cell_type": "markdown",
   "source": "## Setup",
   "id": "a7fd04cd8ce72a99"
  },
  {
   "metadata": {
    "ExecuteTime": {
     "end_time": "2025-06-19T12:44:02.456339Z",
     "start_time": "2025-06-19T12:44:01.814861Z"
    }
   },
   "cell_type": "code",
   "source": [
    "import numpy as np\n",
    "import pandas as pd\n",
    "from matplotlib import pyplot as plt\n",
    "from itertools import product\n",
    "from sklearn.metrics import accuracy_score\n",
    "from sklearn.model_selection import train_test_split, GridSearchCV, RandomizedSearchCV\n",
    "from sklearn.ensemble import GradientBoostingClassifier, RandomForestClassifier\n",
    "from sklearn.metrics import accuracy_score"
   ],
   "id": "98b8ec59d2fe8aeb",
   "outputs": [],
   "execution_count": 65
  },
  {
   "metadata": {
    "ExecuteTime": {
     "end_time": "2025-06-19T12:36:08.905754Z",
     "start_time": "2025-06-19T12:36:08.894731Z"
    }
   },
   "cell_type": "code",
   "source": [
    "df = pd.read_csv('diabetes.csv')\n",
    "df.head()"
   ],
   "id": "5991c172bae9bd26",
   "outputs": [
    {
     "data": {
      "text/plain": [
       "   age   bmi  systolic_bp  diastolic_bp  cholesterol_level  glucose_level  \\\n",
       "0   56  33.4          159            79                205            151   \n",
       "1   69  27.5          135           104                245            146   \n",
       "2   46  43.0          132            66                224            145   \n",
       "3   32  41.0          110            73                292            107   \n",
       "4   60  16.4          112            68                181            140   \n",
       "\n",
       "   activity_level  family_history  smoking_status  diet_score  diabetes_risk  \n",
       "0             358               1               0          10              1  \n",
       "1             219               0               0           9              0  \n",
       "2             105               0               0          10              0  \n",
       "3             374               0               1           6              0  \n",
       "4              69               1               1           7              0  "
      ],
      "text/html": [
       "<div>\n",
       "<style scoped>\n",
       "    .dataframe tbody tr th:only-of-type {\n",
       "        vertical-align: middle;\n",
       "    }\n",
       "\n",
       "    .dataframe tbody tr th {\n",
       "        vertical-align: top;\n",
       "    }\n",
       "\n",
       "    .dataframe thead th {\n",
       "        text-align: right;\n",
       "    }\n",
       "</style>\n",
       "<table border=\"1\" class=\"dataframe\">\n",
       "  <thead>\n",
       "    <tr style=\"text-align: right;\">\n",
       "      <th></th>\n",
       "      <th>age</th>\n",
       "      <th>bmi</th>\n",
       "      <th>systolic_bp</th>\n",
       "      <th>diastolic_bp</th>\n",
       "      <th>cholesterol_level</th>\n",
       "      <th>glucose_level</th>\n",
       "      <th>activity_level</th>\n",
       "      <th>family_history</th>\n",
       "      <th>smoking_status</th>\n",
       "      <th>diet_score</th>\n",
       "      <th>diabetes_risk</th>\n",
       "    </tr>\n",
       "  </thead>\n",
       "  <tbody>\n",
       "    <tr>\n",
       "      <th>0</th>\n",
       "      <td>56</td>\n",
       "      <td>33.4</td>\n",
       "      <td>159</td>\n",
       "      <td>79</td>\n",
       "      <td>205</td>\n",
       "      <td>151</td>\n",
       "      <td>358</td>\n",
       "      <td>1</td>\n",
       "      <td>0</td>\n",
       "      <td>10</td>\n",
       "      <td>1</td>\n",
       "    </tr>\n",
       "    <tr>\n",
       "      <th>1</th>\n",
       "      <td>69</td>\n",
       "      <td>27.5</td>\n",
       "      <td>135</td>\n",
       "      <td>104</td>\n",
       "      <td>245</td>\n",
       "      <td>146</td>\n",
       "      <td>219</td>\n",
       "      <td>0</td>\n",
       "      <td>0</td>\n",
       "      <td>9</td>\n",
       "      <td>0</td>\n",
       "    </tr>\n",
       "    <tr>\n",
       "      <th>2</th>\n",
       "      <td>46</td>\n",
       "      <td>43.0</td>\n",
       "      <td>132</td>\n",
       "      <td>66</td>\n",
       "      <td>224</td>\n",
       "      <td>145</td>\n",
       "      <td>105</td>\n",
       "      <td>0</td>\n",
       "      <td>0</td>\n",
       "      <td>10</td>\n",
       "      <td>0</td>\n",
       "    </tr>\n",
       "    <tr>\n",
       "      <th>3</th>\n",
       "      <td>32</td>\n",
       "      <td>41.0</td>\n",
       "      <td>110</td>\n",
       "      <td>73</td>\n",
       "      <td>292</td>\n",
       "      <td>107</td>\n",
       "      <td>374</td>\n",
       "      <td>0</td>\n",
       "      <td>1</td>\n",
       "      <td>6</td>\n",
       "      <td>0</td>\n",
       "    </tr>\n",
       "    <tr>\n",
       "      <th>4</th>\n",
       "      <td>60</td>\n",
       "      <td>16.4</td>\n",
       "      <td>112</td>\n",
       "      <td>68</td>\n",
       "      <td>181</td>\n",
       "      <td>140</td>\n",
       "      <td>69</td>\n",
       "      <td>1</td>\n",
       "      <td>1</td>\n",
       "      <td>7</td>\n",
       "      <td>0</td>\n",
       "    </tr>\n",
       "  </tbody>\n",
       "</table>\n",
       "</div>"
      ]
     },
     "execution_count": 55,
     "metadata": {},
     "output_type": "execute_result"
    }
   ],
   "execution_count": 55
  },
  {
   "metadata": {},
   "cell_type": "markdown",
   "source": "## Train, test, split",
   "id": "8a17a36824b2b9d7"
  },
  {
   "metadata": {
    "ExecuteTime": {
     "end_time": "2025-06-19T12:36:08.921266Z",
     "start_time": "2025-06-19T12:36:08.916260Z"
    }
   },
   "cell_type": "code",
   "source": [
    "X = df.drop('diabetes_risk', axis=1)\n",
    "y = df['diabetes_risk']\n",
    "X_train, X_test, y_train, y_test = train_test_split(X, y, test_size=0.2, random_state=1)"
   ],
   "id": "51f8dbdf35d082",
   "outputs": [],
   "execution_count": 56
  },
  {
   "metadata": {},
   "cell_type": "markdown",
   "source": "## Manual Grid Search",
   "id": "715808faee7ae4a3"
  },
  {
   "metadata": {
    "ExecuteTime": {
     "end_time": "2025-06-19T12:36:08.926578Z",
     "start_time": "2025-06-19T12:36:08.924510Z"
    }
   },
   "cell_type": "code",
   "source": [
    "def gbm_grid_search(learn_rate, max_depth):\n",
    "    model = GradientBoostingClassifier(\n",
    "        learning_rate=learn_rate,\n",
    "        max_depth=max_depth,\n",
    "    )\n",
    "    predictions = model.fit(X_train, y_train).predict(X_test)\n",
    "    return [learn_rate, max_depth, accuracy_score(y_test, predictions)]"
   ],
   "id": "83509b108a7f7ceb",
   "outputs": [],
   "execution_count": 57
  },
  {
   "metadata": {
    "ExecuteTime": {
     "end_time": "2025-06-19T12:36:12.471499Z",
     "start_time": "2025-06-19T12:36:08.930999Z"
    }
   },
   "cell_type": "code",
   "source": [
    "learn_rates = [0.001, 0.01, 0.05]\n",
    "max_depths = [4,6,8,10]\n",
    "results_list = []\n",
    "\n",
    "for learn_rate in learn_rates:\n",
    "    for max_depth in max_depths:\n",
    "        results_list.append(gbm_grid_search(learn_rate, max_depth))\n",
    "\n",
    "results_df = pd.DataFrame(results_list, columns=['learn_rate', 'max_depth', 'accuracy'])\n",
    "\n",
    "results_df"
   ],
   "id": "8df5ad3e7fee7eae",
   "outputs": [
    {
     "data": {
      "text/plain": [
       "    learn_rate  max_depth  accuracy\n",
       "0        0.001          4     0.755\n",
       "1        0.001          6     0.790\n",
       "2        0.001          8     0.870\n",
       "3        0.001         10     0.855\n",
       "4        0.010          4     0.920\n",
       "5        0.010          6     0.865\n",
       "6        0.010          8     0.835\n",
       "7        0.010         10     0.855\n",
       "8        0.050          4     0.965\n",
       "9        0.050          6     0.915\n",
       "10       0.050          8     0.860\n",
       "11       0.050         10     0.840"
      ],
      "text/html": [
       "<div>\n",
       "<style scoped>\n",
       "    .dataframe tbody tr th:only-of-type {\n",
       "        vertical-align: middle;\n",
       "    }\n",
       "\n",
       "    .dataframe tbody tr th {\n",
       "        vertical-align: top;\n",
       "    }\n",
       "\n",
       "    .dataframe thead th {\n",
       "        text-align: right;\n",
       "    }\n",
       "</style>\n",
       "<table border=\"1\" class=\"dataframe\">\n",
       "  <thead>\n",
       "    <tr style=\"text-align: right;\">\n",
       "      <th></th>\n",
       "      <th>learn_rate</th>\n",
       "      <th>max_depth</th>\n",
       "      <th>accuracy</th>\n",
       "    </tr>\n",
       "  </thead>\n",
       "  <tbody>\n",
       "    <tr>\n",
       "      <th>0</th>\n",
       "      <td>0.001</td>\n",
       "      <td>4</td>\n",
       "      <td>0.755</td>\n",
       "    </tr>\n",
       "    <tr>\n",
       "      <th>1</th>\n",
       "      <td>0.001</td>\n",
       "      <td>6</td>\n",
       "      <td>0.790</td>\n",
       "    </tr>\n",
       "    <tr>\n",
       "      <th>2</th>\n",
       "      <td>0.001</td>\n",
       "      <td>8</td>\n",
       "      <td>0.870</td>\n",
       "    </tr>\n",
       "    <tr>\n",
       "      <th>3</th>\n",
       "      <td>0.001</td>\n",
       "      <td>10</td>\n",
       "      <td>0.855</td>\n",
       "    </tr>\n",
       "    <tr>\n",
       "      <th>4</th>\n",
       "      <td>0.010</td>\n",
       "      <td>4</td>\n",
       "      <td>0.920</td>\n",
       "    </tr>\n",
       "    <tr>\n",
       "      <th>5</th>\n",
       "      <td>0.010</td>\n",
       "      <td>6</td>\n",
       "      <td>0.865</td>\n",
       "    </tr>\n",
       "    <tr>\n",
       "      <th>6</th>\n",
       "      <td>0.010</td>\n",
       "      <td>8</td>\n",
       "      <td>0.835</td>\n",
       "    </tr>\n",
       "    <tr>\n",
       "      <th>7</th>\n",
       "      <td>0.010</td>\n",
       "      <td>10</td>\n",
       "      <td>0.855</td>\n",
       "    </tr>\n",
       "    <tr>\n",
       "      <th>8</th>\n",
       "      <td>0.050</td>\n",
       "      <td>4</td>\n",
       "      <td>0.965</td>\n",
       "    </tr>\n",
       "    <tr>\n",
       "      <th>9</th>\n",
       "      <td>0.050</td>\n",
       "      <td>6</td>\n",
       "      <td>0.915</td>\n",
       "    </tr>\n",
       "    <tr>\n",
       "      <th>10</th>\n",
       "      <td>0.050</td>\n",
       "      <td>8</td>\n",
       "      <td>0.860</td>\n",
       "    </tr>\n",
       "    <tr>\n",
       "      <th>11</th>\n",
       "      <td>0.050</td>\n",
       "      <td>10</td>\n",
       "      <td>0.840</td>\n",
       "    </tr>\n",
       "  </tbody>\n",
       "</table>\n",
       "</div>"
      ]
     },
     "execution_count": 58,
     "metadata": {},
     "output_type": "execute_result"
    }
   ],
   "execution_count": 58
  },
  {
   "metadata": {},
   "cell_type": "markdown",
   "source": [
    "## Grid Search with Scikit Learn\n",
    "\n",
    "Three steps.\n",
    "1. Select an algorithm to tune the hyperparameters (sometimes referred to as an estimator)\n",
    "2. Define hyperparameters to tune\n",
    "3. Define range of values for hyperparameters\n",
    "4. Set a cross-validation scheme and scoring function"
   ],
   "id": "e24c9879b3479933"
  },
  {
   "metadata": {},
   "cell_type": "markdown",
   "source": "## Create a GridSearchCV object",
   "id": "131ff78b5880942e"
  },
  {
   "metadata": {
    "ExecuteTime": {
     "end_time": "2025-06-19T12:36:20.414564Z",
     "start_time": "2025-06-19T12:36:12.478602Z"
    }
   },
   "cell_type": "code",
   "source": [
    "# create the grid\n",
    "param_grid= {'max_depth': [2, 4, 6, 8], 'min_samples_leaf': [1, 2, 4, 6]}\n",
    "\n",
    "# create a base classifier\n",
    "rf_class = RandomForestClassifier(criterion='entropy', max_features=None)\n",
    "\n",
    "grid_rf_class = GridSearchCV(\n",
    "    estimator=rf_class,\n",
    "    param_grid=param_grid,\n",
    "    scoring='accuracy',\n",
    "    n_jobs=4,\n",
    "    cv = 10,\n",
    "    refit=True, # enables direct use of the object as an estimator\n",
    "    return_train_score=True\n",
    ")\n",
    "\n",
    "# fit the estimator to the data\n",
    "grid_rf_class.fit(X_train, y_train)\n",
    "\n",
    "# make predictions\n",
    "predictions = grid_rf_class.predict(X_test)\n",
    "\n",
    "# calculate accuracy\n",
    "print(accuracy_score(y_test, predictions))"
   ],
   "id": "8d5c32338088eda",
   "outputs": [
    {
     "name": "stdout",
     "output_type": "stream",
     "text": [
      "0.92\n"
     ]
    }
   ],
   "execution_count": 59
  },
  {
   "metadata": {},
   "cell_type": "markdown",
   "source": [
    "## Analyze GridSearchCV output\n",
    "\n",
    "GridSearchCV properties\n",
    "\n",
    "Results log:\n",
    "- cv_results_\n",
    "\n",
    "Best results:\n",
    "- best_index_, best_params_, best_score_\n",
    "\n",
    "Extra information:\n",
    "- scorer_, n_splits_, refit_time_"
   ],
   "id": "e4cb5e9f12f4475f"
  },
  {
   "metadata": {},
   "cell_type": "markdown",
   "source": "### cv_results_",
   "id": "c53e184c49eb4bc6"
  },
  {
   "metadata": {
    "ExecuteTime": {
     "end_time": "2025-06-19T12:36:20.440245Z",
     "start_time": "2025-06-19T12:36:20.430883Z"
    }
   },
   "cell_type": "code",
   "source": [
    "results = grid_rf_class.cv_results_ # A dictionary of results for each model created\n",
    "results_df = pd.DataFrame(results)\n",
    "\n",
    "results_df.head()"
   ],
   "id": "b9085c9189808738",
   "outputs": [
    {
     "data": {
      "text/plain": [
       "   mean_fit_time  std_fit_time  mean_score_time  std_score_time  \\\n",
       "0       0.090573      0.001992         0.003014        0.000098   \n",
       "1       0.091062      0.001514         0.002937        0.000089   \n",
       "2       0.089802      0.001916         0.002901        0.000046   \n",
       "3       0.090881      0.002096         0.002985        0.000083   \n",
       "4       0.138917      0.001456         0.003154        0.000073   \n",
       "\n",
       "   param_max_depth  param_min_samples_leaf  \\\n",
       "0                2                       1   \n",
       "1                2                       2   \n",
       "2                2                       4   \n",
       "3                2                       6   \n",
       "4                4                       1   \n",
       "\n",
       "                                    params  split0_test_score  \\\n",
       "0  {'max_depth': 2, 'min_samples_leaf': 1}             0.7250   \n",
       "1  {'max_depth': 2, 'min_samples_leaf': 2}             0.6500   \n",
       "2  {'max_depth': 2, 'min_samples_leaf': 4}             0.6375   \n",
       "3  {'max_depth': 2, 'min_samples_leaf': 6}             0.7125   \n",
       "4  {'max_depth': 4, 'min_samples_leaf': 1}             0.8375   \n",
       "\n",
       "   split1_test_score  split2_test_score  ...  split2_train_score  \\\n",
       "0             0.8125             0.7375  ...            0.801389   \n",
       "1             0.8125             0.7375  ...            0.804167   \n",
       "2             0.7875             0.7875  ...            0.813889   \n",
       "3             0.8000             0.7875  ...            0.829167   \n",
       "4             0.8500             0.8750  ...            0.918056   \n",
       "\n",
       "   split3_train_score  split4_train_score  split5_train_score  \\\n",
       "0            0.827778            0.833333            0.840278   \n",
       "1            0.827778            0.809722            0.850000   \n",
       "2            0.825000            0.794444            0.863889   \n",
       "3            0.831944            0.843056            0.831944   \n",
       "4            0.933333            0.926389            0.947222   \n",
       "\n",
       "   split6_train_score  split7_train_score  split8_train_score  \\\n",
       "0            0.847222            0.818056            0.843056   \n",
       "1            0.822222            0.840278            0.847222   \n",
       "2            0.818056            0.843056            0.847222   \n",
       "3            0.823611            0.836111            0.825000   \n",
       "4            0.952778            0.941667            0.919444   \n",
       "\n",
       "   split9_train_score  mean_train_score  std_train_score  \n",
       "0            0.838889          0.826667         0.015674  \n",
       "1            0.831944          0.823750         0.020112  \n",
       "2            0.838889          0.828472         0.020900  \n",
       "3            0.843056          0.829028         0.010043  \n",
       "4            0.926389          0.934444         0.011798  \n",
       "\n",
       "[5 rows x 32 columns]"
      ],
      "text/html": [
       "<div>\n",
       "<style scoped>\n",
       "    .dataframe tbody tr th:only-of-type {\n",
       "        vertical-align: middle;\n",
       "    }\n",
       "\n",
       "    .dataframe tbody tr th {\n",
       "        vertical-align: top;\n",
       "    }\n",
       "\n",
       "    .dataframe thead th {\n",
       "        text-align: right;\n",
       "    }\n",
       "</style>\n",
       "<table border=\"1\" class=\"dataframe\">\n",
       "  <thead>\n",
       "    <tr style=\"text-align: right;\">\n",
       "      <th></th>\n",
       "      <th>mean_fit_time</th>\n",
       "      <th>std_fit_time</th>\n",
       "      <th>mean_score_time</th>\n",
       "      <th>std_score_time</th>\n",
       "      <th>param_max_depth</th>\n",
       "      <th>param_min_samples_leaf</th>\n",
       "      <th>params</th>\n",
       "      <th>split0_test_score</th>\n",
       "      <th>split1_test_score</th>\n",
       "      <th>split2_test_score</th>\n",
       "      <th>...</th>\n",
       "      <th>split2_train_score</th>\n",
       "      <th>split3_train_score</th>\n",
       "      <th>split4_train_score</th>\n",
       "      <th>split5_train_score</th>\n",
       "      <th>split6_train_score</th>\n",
       "      <th>split7_train_score</th>\n",
       "      <th>split8_train_score</th>\n",
       "      <th>split9_train_score</th>\n",
       "      <th>mean_train_score</th>\n",
       "      <th>std_train_score</th>\n",
       "    </tr>\n",
       "  </thead>\n",
       "  <tbody>\n",
       "    <tr>\n",
       "      <th>0</th>\n",
       "      <td>0.090573</td>\n",
       "      <td>0.001992</td>\n",
       "      <td>0.003014</td>\n",
       "      <td>0.000098</td>\n",
       "      <td>2</td>\n",
       "      <td>1</td>\n",
       "      <td>{'max_depth': 2, 'min_samples_leaf': 1}</td>\n",
       "      <td>0.7250</td>\n",
       "      <td>0.8125</td>\n",
       "      <td>0.7375</td>\n",
       "      <td>...</td>\n",
       "      <td>0.801389</td>\n",
       "      <td>0.827778</td>\n",
       "      <td>0.833333</td>\n",
       "      <td>0.840278</td>\n",
       "      <td>0.847222</td>\n",
       "      <td>0.818056</td>\n",
       "      <td>0.843056</td>\n",
       "      <td>0.838889</td>\n",
       "      <td>0.826667</td>\n",
       "      <td>0.015674</td>\n",
       "    </tr>\n",
       "    <tr>\n",
       "      <th>1</th>\n",
       "      <td>0.091062</td>\n",
       "      <td>0.001514</td>\n",
       "      <td>0.002937</td>\n",
       "      <td>0.000089</td>\n",
       "      <td>2</td>\n",
       "      <td>2</td>\n",
       "      <td>{'max_depth': 2, 'min_samples_leaf': 2}</td>\n",
       "      <td>0.6500</td>\n",
       "      <td>0.8125</td>\n",
       "      <td>0.7375</td>\n",
       "      <td>...</td>\n",
       "      <td>0.804167</td>\n",
       "      <td>0.827778</td>\n",
       "      <td>0.809722</td>\n",
       "      <td>0.850000</td>\n",
       "      <td>0.822222</td>\n",
       "      <td>0.840278</td>\n",
       "      <td>0.847222</td>\n",
       "      <td>0.831944</td>\n",
       "      <td>0.823750</td>\n",
       "      <td>0.020112</td>\n",
       "    </tr>\n",
       "    <tr>\n",
       "      <th>2</th>\n",
       "      <td>0.089802</td>\n",
       "      <td>0.001916</td>\n",
       "      <td>0.002901</td>\n",
       "      <td>0.000046</td>\n",
       "      <td>2</td>\n",
       "      <td>4</td>\n",
       "      <td>{'max_depth': 2, 'min_samples_leaf': 4}</td>\n",
       "      <td>0.6375</td>\n",
       "      <td>0.7875</td>\n",
       "      <td>0.7875</td>\n",
       "      <td>...</td>\n",
       "      <td>0.813889</td>\n",
       "      <td>0.825000</td>\n",
       "      <td>0.794444</td>\n",
       "      <td>0.863889</td>\n",
       "      <td>0.818056</td>\n",
       "      <td>0.843056</td>\n",
       "      <td>0.847222</td>\n",
       "      <td>0.838889</td>\n",
       "      <td>0.828472</td>\n",
       "      <td>0.020900</td>\n",
       "    </tr>\n",
       "    <tr>\n",
       "      <th>3</th>\n",
       "      <td>0.090881</td>\n",
       "      <td>0.002096</td>\n",
       "      <td>0.002985</td>\n",
       "      <td>0.000083</td>\n",
       "      <td>2</td>\n",
       "      <td>6</td>\n",
       "      <td>{'max_depth': 2, 'min_samples_leaf': 6}</td>\n",
       "      <td>0.7125</td>\n",
       "      <td>0.8000</td>\n",
       "      <td>0.7875</td>\n",
       "      <td>...</td>\n",
       "      <td>0.829167</td>\n",
       "      <td>0.831944</td>\n",
       "      <td>0.843056</td>\n",
       "      <td>0.831944</td>\n",
       "      <td>0.823611</td>\n",
       "      <td>0.836111</td>\n",
       "      <td>0.825000</td>\n",
       "      <td>0.843056</td>\n",
       "      <td>0.829028</td>\n",
       "      <td>0.010043</td>\n",
       "    </tr>\n",
       "    <tr>\n",
       "      <th>4</th>\n",
       "      <td>0.138917</td>\n",
       "      <td>0.001456</td>\n",
       "      <td>0.003154</td>\n",
       "      <td>0.000073</td>\n",
       "      <td>4</td>\n",
       "      <td>1</td>\n",
       "      <td>{'max_depth': 4, 'min_samples_leaf': 1}</td>\n",
       "      <td>0.8375</td>\n",
       "      <td>0.8500</td>\n",
       "      <td>0.8750</td>\n",
       "      <td>...</td>\n",
       "      <td>0.918056</td>\n",
       "      <td>0.933333</td>\n",
       "      <td>0.926389</td>\n",
       "      <td>0.947222</td>\n",
       "      <td>0.952778</td>\n",
       "      <td>0.941667</td>\n",
       "      <td>0.919444</td>\n",
       "      <td>0.926389</td>\n",
       "      <td>0.934444</td>\n",
       "      <td>0.011798</td>\n",
       "    </tr>\n",
       "  </tbody>\n",
       "</table>\n",
       "<p>5 rows × 32 columns</p>\n",
       "</div>"
      ]
     },
     "execution_count": 60,
     "metadata": {},
     "output_type": "execute_result"
    }
   ],
   "execution_count": 60
  },
  {
   "metadata": {},
   "cell_type": "markdown",
   "source": [
    "## Random Search\n",
    "Random Search randomly selects a subset of combinations within the provided sample space. Uniform is the default sampling methodology, though others can be selected.\n",
    "\n",
    "Random Search is less computationally expensive, but likely to find a *good* one *faster*."
   ],
   "id": "827772032e600a29"
  },
  {
   "metadata": {},
   "cell_type": "markdown",
   "source": "### Manual Random Search",
   "id": "3372732ff2d90c46"
  },
  {
   "metadata": {
    "ExecuteTime": {
     "end_time": "2025-06-19T12:36:20.453417Z",
     "start_time": "2025-06-19T12:36:20.450760Z"
    }
   },
   "cell_type": "code",
   "source": [
    "# set hyperparameter limits\n",
    "learn_rates_list = np.linspace(0.001, 2, 150)\n",
    "min_samples_leaf_list = list(range(1,51))\n",
    "\n",
    "# create a list of combinations\n",
    "combinations_list = [list(x) for x in product(learn_rates, min_samples_leaf_list)]\n",
    "\n",
    "# randomly select 100 models\n",
    "random_combinations_index = np.random.choice(\n",
    "    range(0,len(combinations_list)), 100,\n",
    "    replace=False)\n",
    "\n",
    "selected_combinations = [combinations_list[x] for x in random_combinations_index]\n",
    "print(selected_combinations)"
   ],
   "id": "b553ba91b0ff3595",
   "outputs": [
    {
     "name": "stdout",
     "output_type": "stream",
     "text": [
      "[[0.001, 11], [0.01, 18], [0.001, 9], [0.05, 4], [0.001, 28], [0.01, 37], [0.01, 34], [0.01, 32], [0.01, 1], [0.01, 42], [0.05, 22], [0.01, 38], [0.05, 35], [0.001, 44], [0.05, 27], [0.01, 14], [0.001, 8], [0.001, 34], [0.001, 30], [0.001, 43], [0.001, 7], [0.01, 26], [0.001, 35], [0.05, 6], [0.01, 40], [0.05, 20], [0.001, 18], [0.05, 11], [0.05, 2], [0.05, 26], [0.001, 3], [0.001, 16], [0.01, 6], [0.001, 48], [0.05, 37], [0.05, 31], [0.001, 23], [0.05, 45], [0.05, 30], [0.001, 37], [0.001, 4], [0.05, 40], [0.01, 8], [0.001, 25], [0.001, 19], [0.001, 12], [0.01, 20], [0.01, 22], [0.01, 11], [0.05, 16], [0.01, 44], [0.001, 29], [0.01, 47], [0.001, 6], [0.05, 18], [0.05, 32], [0.05, 10], [0.001, 22], [0.01, 24], [0.05, 48], [0.001, 24], [0.05, 33], [0.01, 5], [0.01, 48], [0.05, 34], [0.01, 4], [0.05, 42], [0.01, 7], [0.05, 39], [0.01, 30], [0.001, 5], [0.05, 38], [0.001, 46], [0.01, 13], [0.05, 28], [0.01, 10], [0.001, 40], [0.01, 27], [0.05, 15], [0.01, 33], [0.05, 3], [0.01, 15], [0.001, 45], [0.05, 43], [0.05, 12], [0.05, 24], [0.01, 50], [0.01, 49], [0.001, 15], [0.001, 32], [0.05, 46], [0.01, 43], [0.001, 42], [0.01, 25], [0.05, 36], [0.05, 7], [0.01, 45], [0.01, 21], [0.01, 39], [0.01, 3]]\n"
     ]
    }
   ],
   "execution_count": 61
  },
  {
   "metadata": {},
   "cell_type": "markdown",
   "source": "### Random Search with Scikit Learn",
   "id": "31982fe483c32f98"
  },
  {
   "metadata": {},
   "cell_type": "markdown",
   "source": "When working with RandomSearchCV, there is only one extra step compared to GridSearchCV: decide the number of samples to take.",
   "id": "f299d4ae63619857"
  },
  {
   "metadata": {
    "ExecuteTime": {
     "end_time": "2025-06-19T12:36:29.000113Z",
     "start_time": "2025-06-19T12:36:26.907734Z"
    }
   },
   "cell_type": "code",
   "source": [
    "random_rf_class = RandomizedSearchCV(\n",
    "    estimator=rf_class,\n",
    "    param_distributions=param_grid,\n",
    "    n_iter=50,\n",
    "    scoring='accuracy',\n",
    "    n_jobs=4,\n",
    "    refit=True,\n",
    "    return_train_score=True,\n",
    "    random_state=11,\n",
    "    cv=5\n",
    ")\n",
    "\n",
    "random_rf_class.fit(X_train, y_train)\n",
    "predictions = random_rf_class.predict(X_test)\n",
    "print(accuracy_score(y_test, predictions))"
   ],
   "id": "78e5788a6ff51c9a",
   "outputs": [
    {
     "name": "stdout",
     "output_type": "stream",
     "text": [
      "0.915\n"
     ]
    }
   ],
   "execution_count": 64
  },
  {
   "metadata": {},
   "cell_type": "markdown",
   "source": [
    "Key differences between GridSearchCV and RandomizedSearchCV:\n",
    "- n_iter takes the number of samples for the random search to take from the grid\n",
    "- param_distributions allows for the optional ability to set a distribution for sampling."
   ],
   "id": "1a80b9f05fb4f6d1"
  },
  {
   "metadata": {},
   "cell_type": "markdown",
   "source": "## Visualize results",
   "id": "29ebd5f3c10408b8"
  },
  {
   "metadata": {
    "ExecuteTime": {
     "end_time": "2025-06-19T12:46:42.505773Z",
     "start_time": "2025-06-19T12:46:42.501312Z"
    }
   },
   "cell_type": "code",
   "source": "random_rf_class.cv_results_",
   "id": "8325d714dba57fd6",
   "outputs": [
    {
     "data": {
      "text/plain": [
       "{'mean_fit_time': array([0.170012  , 0.0870728 , 0.13162503, 0.1520143 , 0.15058522,\n",
       "        0.1326386 , 0.12972345, 0.15809202, 0.08695531, 0.16288252]),\n",
       " 'std_fit_time': array([0.00661133, 0.00237954, 0.00258623, 0.00138105, 0.00282219,\n",
       "        0.00271411, 0.00062463, 0.00246177, 0.00203509, 0.00285844]),\n",
       " 'mean_score_time': array([0.00367298, 0.00317125, 0.0033083 , 0.00363154, 0.00352759,\n",
       "        0.00340452, 0.00344644, 0.00365195, 0.00311875, 0.00364738]),\n",
       " 'std_score_time': array([7.65980085e-05, 1.82871582e-04, 1.11575514e-04, 1.95951030e-04,\n",
       "        1.11204457e-04, 5.66777881e-05, 9.37876508e-05, 1.04651863e-04,\n",
       "        9.63806922e-05, 1.10323817e-04]),\n",
       " 'param_min_samples_leaf': masked_array(data=[1, 6, 4, 4, 6, 1, 2, 4, 4, 2],\n",
       "              mask=[False, False, False, False, False, False, False, False,\n",
       "                    False, False],\n",
       "        fill_value=999999),\n",
       " 'param_max_depth': masked_array(data=[6, 2, 4, 6, 8, 4, 4, 8, 2, 8],\n",
       "              mask=[False, False, False, False, False, False, False, False,\n",
       "                    False, False],\n",
       "        fill_value=999999),\n",
       " 'params': [{'min_samples_leaf': 1, 'max_depth': 6},\n",
       "  {'min_samples_leaf': 6, 'max_depth': 2},\n",
       "  {'min_samples_leaf': 4, 'max_depth': 4},\n",
       "  {'min_samples_leaf': 4, 'max_depth': 6},\n",
       "  {'min_samples_leaf': 6, 'max_depth': 8},\n",
       "  {'min_samples_leaf': 1, 'max_depth': 4},\n",
       "  {'min_samples_leaf': 2, 'max_depth': 4},\n",
       "  {'min_samples_leaf': 4, 'max_depth': 8},\n",
       "  {'min_samples_leaf': 4, 'max_depth': 2},\n",
       "  {'min_samples_leaf': 2, 'max_depth': 8}],\n",
       " 'split0_test_score': array([0.875  , 0.66875, 0.8375 , 0.85625, 0.9125 , 0.8375 , 0.8125 ,\n",
       "        0.89375, 0.65625, 0.88125]),\n",
       " 'split1_test_score': array([0.91875, 0.78125, 0.9125 , 0.95   , 0.93125, 0.91875, 0.9125 ,\n",
       "        0.93125, 0.8    , 0.93125]),\n",
       " 'split2_test_score': array([0.85625, 0.85   , 0.8875 , 0.86875, 0.88125, 0.86875, 0.86875,\n",
       "        0.875  , 0.83125, 0.86875]),\n",
       " 'split3_test_score': array([0.85625, 0.81875, 0.825  , 0.86875, 0.86875, 0.825  , 0.85   ,\n",
       "        0.85625, 0.8125 , 0.88125]),\n",
       " 'split4_test_score': array([0.85625, 0.7625 , 0.7875 , 0.85625, 0.83125, 0.80625, 0.81875,\n",
       "        0.85   , 0.71875, 0.84375]),\n",
       " 'mean_test_score': array([0.8725 , 0.77625, 0.85   , 0.88   , 0.885  , 0.85125, 0.8525 ,\n",
       "        0.88125, 0.76375, 0.88125]),\n",
       " 'std_test_score': array([0.0242384 , 0.06166948, 0.04472136, 0.03544362, 0.03482097,\n",
       "        0.03940971, 0.0363576 , 0.0293151 , 0.06607288, 0.02850439]),\n",
       " 'rank_test_score': array([ 5,  9,  8,  4,  1,  7,  6,  2, 10,  2], dtype=int32),\n",
       " 'split0_train_score': array([1.       , 0.7671875, 0.9328125, 0.9875   , 0.9859375, 0.9375   ,\n",
       "        0.9265625, 0.990625 , 0.7765625, 0.9984375]),\n",
       " 'split1_train_score': array([0.996875 , 0.8      , 0.9296875, 0.9828125, 0.98125  , 0.9265625,\n",
       "        0.93125  , 0.99375  , 0.828125 , 1.       ]),\n",
       " 'split2_train_score': array([0.9953125, 0.8390625, 0.9484375, 0.990625 , 0.978125 , 0.94375  ,\n",
       "        0.9390625, 0.99375  , 0.8359375, 1.       ]),\n",
       " 'split3_train_score': array([1.       , 0.8515625, 0.9515625, 0.990625 , 0.9828125, 0.940625 ,\n",
       "        0.9484375, 0.990625 , 0.853125 , 1.       ]),\n",
       " 'split4_train_score': array([0.996875 , 0.8390625, 0.9296875, 0.9859375, 0.9765625, 0.921875 ,\n",
       "        0.9390625, 0.990625 , 0.840625 , 1.       ]),\n",
       " 'mean_train_score': array([0.9978125, 0.819375 , 0.9384375, 0.9875   , 0.9809375, 0.9340625,\n",
       "        0.936875 , 0.991875 , 0.826875 , 0.9996875]),\n",
       " 'std_train_score': array([0.001875  , 0.03133738, 0.00956066, 0.00296464, 0.00333659,\n",
       "        0.00840852, 0.0075    , 0.00153093, 0.02643166, 0.000625  ])}"
      ]
     },
     "execution_count": 67,
     "metadata": {},
     "output_type": "execute_result"
    }
   ],
   "execution_count": 67
  },
  {
   "metadata": {
    "ExecuteTime": {
     "end_time": "2025-06-19T12:49:23.046292Z",
     "start_time": "2025-06-19T12:49:22.929478Z"
    }
   },
   "cell_type": "code",
   "source": [
    "rand_x = list(random_rf_class.cv_results_['std_fit_time'])\n",
    "rand_y = list(random_rf_class.cv_results_['param_min_samples_leaf'])\n",
    "\n",
    "x_lims = [np.min(learn_rates_list), np.max(learn_rates_list)]\n",
    "y_lims = [np.min(min_samples_leaf_list), np.max(min_samples_leaf_list)]\n",
    "\n",
    "plt.scatter(rand_y, rand_x, c=['blue']*10)\n",
    "plt.gca().set(xlabel='std_fit_time', ylabel='min_samples_leaf', title='Random Search Hyperparameters')\n",
    "plt.show()\n"
   ],
   "id": "a2fb38d9874ee9b6",
   "outputs": [
    {
     "data": {
      "text/plain": [
       "<Figure size 640x480 with 1 Axes>"
      ],
      "image/png": "[encoded data removed]"
     },
     "metadata": {},
     "output_type": "display_data"
    }
   ],
   "execution_count": 69
  },
  {
   "metadata": {},
   "cell_type": "markdown",
   "source": [
    "## Considerations\n",
    "Random search may be more valuable than Grid Search if:\n",
    "- There is a large quantity of data\n",
    "- There are a large number of hyperparameter-value combinations\n",
    "- There is limited computational resources"
   ],
   "id": "122d14a136564ce5"
  },
  {
   "metadata": {
    "ExecuteTime": {
     "end_time": "2025-06-19T12:36:22.565823Z",
     "start_time": "2025-06-19T12:36:22.564292Z"
    }
   },
   "cell_type": "code",
   "source": "",
   "id": "c286be44d3203cf8",
   "outputs": [],
   "execution_count": null
  }
 ],
 "metadata": {
  "kernelspec": {
   "display_name": "Python 3",
   "language": "python",
   "name": "python3"
  },
  "language_info": {
   "codemirror_mode": {
    "name": "ipython",
    "version": 2
   },
   "file_extension": ".py",
   "mimetype": "text/x-python",
   "name": "python",
   "nbconvert_exporter": "python",
   "pygments_lexer": "ipython2",
   "version": "2.7.6"
  }
 },
 "nbformat": 4,
 "nbformat_minor": 5
}
