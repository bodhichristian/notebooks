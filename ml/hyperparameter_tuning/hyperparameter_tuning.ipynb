{
 "cells": [
  {
   "metadata": {},
   "cell_type": "markdown",
   "source": "# Hyperparameter Tuning",
   "id": "c337d2180b879180"
  },
  {
   "metadata": {},
   "cell_type": "markdown",
   "source": "Grid search and Random search are automated ways of tuning different hyperparameters. Both require a grid to sample from (which hyperparameter-value combinations), a cross-validation scheme, and a scoring function. ",
   "id": "71e4bc32f92e7e4b"
  },
  {
   "metadata": {},
   "cell_type": "markdown",
   "source": "## Setup",
   "id": "a7fd04cd8ce72a99"
  },
  {
   "metadata": {
    "ExecuteTime": {
     "end_time": "2025-06-30T13:26:02.421825Z",
     "start_time": "2025-06-30T13:26:01.878197Z"
    }
   },
   "cell_type": "code",
   "source": [
    "import numpy as np\n",
    "import pandas as pd\n",
    "from matplotlib import pyplot as plt\n",
    "from itertools import product\n",
    "from sklearn.metrics import accuracy_score\n",
    "from sklearn.model_selection import train_test_split, GridSearchCV, RandomizedSearchCV, cross_val_score\n",
    "from sklearn.ensemble import GradientBoostingClassifier, RandomForestClassifier\n",
    "from sklearn.metrics import accuracy_score\n",
    "from hyperopt import hp, fmin, tpe"
   ],
   "id": "98b8ec59d2fe8aeb",
   "outputs": [],
   "execution_count": 5
  },
  {
   "metadata": {
    "ExecuteTime": {
     "end_time": "2025-06-30T13:26:02.437984Z",
     "start_time": "2025-06-30T13:26:02.427130Z"
    }
   },
   "cell_type": "code",
   "source": [
    "df = pd.read_csv('diabetes.csv')\n",
    "df.head()"
   ],
   "id": "5991c172bae9bd26",
   "outputs": [
    {
     "data": {
      "text/plain": [
       "   age   bmi  systolic_bp  diastolic_bp  cholesterol_level  glucose_level  \\\n",
       "0   56  33.4          159            79                205            151   \n",
       "1   69  27.5          135           104                245            146   \n",
       "2   46  43.0          132            66                224            145   \n",
       "3   32  41.0          110            73                292            107   \n",
       "4   60  16.4          112            68                181            140   \n",
       "\n",
       "   activity_level  family_history  smoking_status  diet_score  diabetes_risk  \n",
       "0             358               1               0          10              1  \n",
       "1             219               0               0           9              0  \n",
       "2             105               0               0          10              0  \n",
       "3             374               0               1           6              0  \n",
       "4              69               1               1           7              0  "
      ],
      "text/html": [
       "<div>\n",
       "<style scoped>\n",
       "    .dataframe tbody tr th:only-of-type {\n",
       "        vertical-align: middle;\n",
       "    }\n",
       "\n",
       "    .dataframe tbody tr th {\n",
       "        vertical-align: top;\n",
       "    }\n",
       "\n",
       "    .dataframe thead th {\n",
       "        text-align: right;\n",
       "    }\n",
       "</style>\n",
       "<table border=\"1\" class=\"dataframe\">\n",
       "  <thead>\n",
       "    <tr style=\"text-align: right;\">\n",
       "      <th></th>\n",
       "      <th>age</th>\n",
       "      <th>bmi</th>\n",
       "      <th>systolic_bp</th>\n",
       "      <th>diastolic_bp</th>\n",
       "      <th>cholesterol_level</th>\n",
       "      <th>glucose_level</th>\n",
       "      <th>activity_level</th>\n",
       "      <th>family_history</th>\n",
       "      <th>smoking_status</th>\n",
       "      <th>diet_score</th>\n",
       "      <th>diabetes_risk</th>\n",
       "    </tr>\n",
       "  </thead>\n",
       "  <tbody>\n",
       "    <tr>\n",
       "      <th>0</th>\n",
       "      <td>56</td>\n",
       "      <td>33.4</td>\n",
       "      <td>159</td>\n",
       "      <td>79</td>\n",
       "      <td>205</td>\n",
       "      <td>151</td>\n",
       "      <td>358</td>\n",
       "      <td>1</td>\n",
       "      <td>0</td>\n",
       "      <td>10</td>\n",
       "      <td>1</td>\n",
       "    </tr>\n",
       "    <tr>\n",
       "      <th>1</th>\n",
       "      <td>69</td>\n",
       "      <td>27.5</td>\n",
       "      <td>135</td>\n",
       "      <td>104</td>\n",
       "      <td>245</td>\n",
       "      <td>146</td>\n",
       "      <td>219</td>\n",
       "      <td>0</td>\n",
       "      <td>0</td>\n",
       "      <td>9</td>\n",
       "      <td>0</td>\n",
       "    </tr>\n",
       "    <tr>\n",
       "      <th>2</th>\n",
       "      <td>46</td>\n",
       "      <td>43.0</td>\n",
       "      <td>132</td>\n",
       "      <td>66</td>\n",
       "      <td>224</td>\n",
       "      <td>145</td>\n",
       "      <td>105</td>\n",
       "      <td>0</td>\n",
       "      <td>0</td>\n",
       "      <td>10</td>\n",
       "      <td>0</td>\n",
       "    </tr>\n",
       "    <tr>\n",
       "      <th>3</th>\n",
       "      <td>32</td>\n",
       "      <td>41.0</td>\n",
       "      <td>110</td>\n",
       "      <td>73</td>\n",
       "      <td>292</td>\n",
       "      <td>107</td>\n",
       "      <td>374</td>\n",
       "      <td>0</td>\n",
       "      <td>1</td>\n",
       "      <td>6</td>\n",
       "      <td>0</td>\n",
       "    </tr>\n",
       "    <tr>\n",
       "      <th>4</th>\n",
       "      <td>60</td>\n",
       "      <td>16.4</td>\n",
       "      <td>112</td>\n",
       "      <td>68</td>\n",
       "      <td>181</td>\n",
       "      <td>140</td>\n",
       "      <td>69</td>\n",
       "      <td>1</td>\n",
       "      <td>1</td>\n",
       "      <td>7</td>\n",
       "      <td>0</td>\n",
       "    </tr>\n",
       "  </tbody>\n",
       "</table>\n",
       "</div>"
      ]
     },
     "execution_count": 6,
     "metadata": {},
     "output_type": "execute_result"
    }
   ],
   "execution_count": 6
  },
  {
   "metadata": {},
   "cell_type": "markdown",
   "source": "## Train, test, split",
   "id": "8a17a36824b2b9d7"
  },
  {
   "metadata": {
    "ExecuteTime": {
     "end_time": "2025-06-30T13:26:02.448272Z",
     "start_time": "2025-06-30T13:26:02.444210Z"
    }
   },
   "cell_type": "code",
   "source": [
    "X = df.drop('diabetes_risk', axis=1)\n",
    "y = df['diabetes_risk']\n",
    "X_train, X_test, y_train, y_test = train_test_split(X, y, test_size=0.2, random_state=1)"
   ],
   "id": "51f8dbdf35d082",
   "outputs": [],
   "execution_count": 7
  },
  {
   "metadata": {},
   "cell_type": "markdown",
   "source": [
    "## Grid Search\n",
    "Grid Search exhaustively tries all combinations within the sample space. No sampling methodology is necessary.\n",
    "\n",
    "Grid Search is computational expensive, but guaranteed to find the best score in the sample space."
   ],
   "id": "4c965894728c3a46"
  },
  {
   "metadata": {},
   "cell_type": "markdown",
   "source": "## Manual Grid Search",
   "id": "715808faee7ae4a3"
  },
  {
   "metadata": {
    "ExecuteTime": {
     "end_time": "2025-06-30T13:26:02.455297Z",
     "start_time": "2025-06-30T13:26:02.453480Z"
    }
   },
   "cell_type": "code",
   "source": [
    "def gbm_grid_search(learn_rate, max_depth):\n",
    "    model = GradientBoostingClassifier(\n",
    "        learning_rate=learn_rate,\n",
    "        max_depth=max_depth,\n",
    "    )\n",
    "    predictions = model.fit(X_train, y_train).predict(X_test)\n",
    "    return [learn_rate, max_depth, accuracy_score(y_test, predictions)]"
   ],
   "id": "83509b108a7f7ceb",
   "outputs": [],
   "execution_count": 8
  },
  {
   "metadata": {
    "ExecuteTime": {
     "end_time": "2025-06-30T13:26:05.965769Z",
     "start_time": "2025-06-30T13:26:02.461310Z"
    }
   },
   "cell_type": "code",
   "source": [
    "learn_rates = [0.001, 0.01, 0.05]\n",
    "max_depths = [4,6,8,10]\n",
    "results_list = []\n",
    "\n",
    "for learn_rate in learn_rates:\n",
    "    for max_depth in max_depths:\n",
    "        results_list.append(gbm_grid_search(learn_rate, max_depth))\n",
    "\n",
    "results_df = pd.DataFrame(results_list, columns=['learn_rate', 'max_depth', 'accuracy'])\n",
    "\n",
    "results_df"
   ],
   "id": "8df5ad3e7fee7eae",
   "outputs": [
    {
     "data": {
      "text/plain": [
       "    learn_rate  max_depth  accuracy\n",
       "0        0.001          4     0.755\n",
       "1        0.001          6     0.790\n",
       "2        0.001          8     0.865\n",
       "3        0.001         10     0.855\n",
       "4        0.010          4     0.920\n",
       "5        0.010          6     0.860\n",
       "6        0.010          8     0.825\n",
       "7        0.010         10     0.855\n",
       "8        0.050          4     0.965\n",
       "9        0.050          6     0.900\n",
       "10       0.050          8     0.785\n",
       "11       0.050         10     0.855"
      ],
      "text/html": [
       "<div>\n",
       "<style scoped>\n",
       "    .dataframe tbody tr th:only-of-type {\n",
       "        vertical-align: middle;\n",
       "    }\n",
       "\n",
       "    .dataframe tbody tr th {\n",
       "        vertical-align: top;\n",
       "    }\n",
       "\n",
       "    .dataframe thead th {\n",
       "        text-align: right;\n",
       "    }\n",
       "</style>\n",
       "<table border=\"1\" class=\"dataframe\">\n",
       "  <thead>\n",
       "    <tr style=\"text-align: right;\">\n",
       "      <th></th>\n",
       "      <th>learn_rate</th>\n",
       "      <th>max_depth</th>\n",
       "      <th>accuracy</th>\n",
       "    </tr>\n",
       "  </thead>\n",
       "  <tbody>\n",
       "    <tr>\n",
       "      <th>0</th>\n",
       "      <td>0.001</td>\n",
       "      <td>4</td>\n",
       "      <td>0.755</td>\n",
       "    </tr>\n",
       "    <tr>\n",
       "      <th>1</th>\n",
       "      <td>0.001</td>\n",
       "      <td>6</td>\n",
       "      <td>0.790</td>\n",
       "    </tr>\n",
       "    <tr>\n",
       "      <th>2</th>\n",
       "      <td>0.001</td>\n",
       "      <td>8</td>\n",
       "      <td>0.865</td>\n",
       "    </tr>\n",
       "    <tr>\n",
       "      <th>3</th>\n",
       "      <td>0.001</td>\n",
       "      <td>10</td>\n",
       "      <td>0.855</td>\n",
       "    </tr>\n",
       "    <tr>\n",
       "      <th>4</th>\n",
       "      <td>0.010</td>\n",
       "      <td>4</td>\n",
       "      <td>0.920</td>\n",
       "    </tr>\n",
       "    <tr>\n",
       "      <th>5</th>\n",
       "      <td>0.010</td>\n",
       "      <td>6</td>\n",
       "      <td>0.860</td>\n",
       "    </tr>\n",
       "    <tr>\n",
       "      <th>6</th>\n",
       "      <td>0.010</td>\n",
       "      <td>8</td>\n",
       "      <td>0.825</td>\n",
       "    </tr>\n",
       "    <tr>\n",
       "      <th>7</th>\n",
       "      <td>0.010</td>\n",
       "      <td>10</td>\n",
       "      <td>0.855</td>\n",
       "    </tr>\n",
       "    <tr>\n",
       "      <th>8</th>\n",
       "      <td>0.050</td>\n",
       "      <td>4</td>\n",
       "      <td>0.965</td>\n",
       "    </tr>\n",
       "    <tr>\n",
       "      <th>9</th>\n",
       "      <td>0.050</td>\n",
       "      <td>6</td>\n",
       "      <td>0.900</td>\n",
       "    </tr>\n",
       "    <tr>\n",
       "      <th>10</th>\n",
       "      <td>0.050</td>\n",
       "      <td>8</td>\n",
       "      <td>0.785</td>\n",
       "    </tr>\n",
       "    <tr>\n",
       "      <th>11</th>\n",
       "      <td>0.050</td>\n",
       "      <td>10</td>\n",
       "      <td>0.855</td>\n",
       "    </tr>\n",
       "  </tbody>\n",
       "</table>\n",
       "</div>"
      ]
     },
     "execution_count": 9,
     "metadata": {},
     "output_type": "execute_result"
    }
   ],
   "execution_count": 9
  },
  {
   "metadata": {},
   "cell_type": "markdown",
   "source": [
    "## Grid Search with Scikit Learn\n",
    "\n",
    "Three steps.\n",
    "1. Select an algorithm to tune the hyperparameters (sometimes referred to as an estimator)\n",
    "2. Define hyperparameters to tune\n",
    "3. Define range of values for hyperparameters\n",
    "4. Set a cross-validation scheme and scoring function"
   ],
   "id": "e24c9879b3479933"
  },
  {
   "metadata": {},
   "cell_type": "markdown",
   "source": "## Create a GridSearchCV object",
   "id": "131ff78b5880942e"
  },
  {
   "metadata": {
    "ExecuteTime": {
     "end_time": "2025-06-30T13:26:13.492995Z",
     "start_time": "2025-06-30T13:26:05.980328Z"
    }
   },
   "cell_type": "code",
   "source": [
    "# create the grid\n",
    "param_grid= {'max_depth': [2, 4, 6, 8], 'min_samples_leaf': [1, 2, 4, 6]}\n",
    "\n",
    "# create a base classifier\n",
    "rf_class = RandomForestClassifier(criterion='entropy', max_features=None)\n",
    "\n",
    "grid_rf_class = GridSearchCV(\n",
    "    estimator=rf_class,\n",
    "    param_grid=param_grid,\n",
    "    scoring='accuracy',\n",
    "    n_jobs=4,\n",
    "    cv = 10,\n",
    "    refit=True, # enables direct use of the object as an estimator\n",
    "    return_train_score=True\n",
    ")\n",
    "\n",
    "# fit the estimator to the data\n",
    "grid_rf_class.fit(X_train, y_train)\n",
    "\n",
    "# make predictions\n",
    "predictions = grid_rf_class.predict(X_test)\n",
    "\n",
    "# calculate accuracy\n",
    "print(accuracy_score(y_test, predictions))"
   ],
   "id": "8d5c32338088eda",
   "outputs": [
    {
     "name": "stdout",
     "output_type": "stream",
     "text": [
      "0.935\n"
     ]
    }
   ],
   "execution_count": 10
  },
  {
   "metadata": {},
   "cell_type": "markdown",
   "source": [
    "## Analyze GridSearchCV output\n",
    "\n",
    "GridSearchCV properties\n",
    "\n",
    "Results log:\n",
    "- cv_results_\n",
    "\n",
    "Best results:\n",
    "- best_index_, best_params_, best_score_\n",
    "\n",
    "Extra information:\n",
    "- scorer_, n_splits_, refit_time_"
   ],
   "id": "e4cb5e9f12f4475f"
  },
  {
   "metadata": {},
   "cell_type": "markdown",
   "source": "### cv_results_",
   "id": "c53e184c49eb4bc6"
  },
  {
   "metadata": {
    "ExecuteTime": {
     "end_time": "2025-06-30T13:26:13.509004Z",
     "start_time": "2025-06-30T13:26:13.498852Z"
    }
   },
   "cell_type": "code",
   "source": [
    "results = grid_rf_class.cv_results_ # A dictionary of results for each model created\n",
    "results_df = pd.DataFrame(results)\n",
    "\n",
    "results_df.head()"
   ],
   "id": "b9085c9189808738",
   "outputs": [
    {
     "data": {
      "text/plain": [
       "   mean_fit_time  std_fit_time  mean_score_time  std_score_time  \\\n",
       "0       0.089936      0.000871         0.003026        0.000121   \n",
       "1       0.089154      0.000537         0.002938        0.000047   \n",
       "2       0.088980      0.000716         0.002993        0.000035   \n",
       "3       0.089484      0.000711         0.002956        0.000069   \n",
       "4       0.138429      0.000624         0.003095        0.000057   \n",
       "\n",
       "   param_max_depth  param_min_samples_leaf  \\\n",
       "0                2                       1   \n",
       "1                2                       2   \n",
       "2                2                       4   \n",
       "3                2                       6   \n",
       "4                4                       1   \n",
       "\n",
       "                                    params  split0_test_score  \\\n",
       "0  {'max_depth': 2, 'min_samples_leaf': 1}             0.7000   \n",
       "1  {'max_depth': 2, 'min_samples_leaf': 2}             0.6375   \n",
       "2  {'max_depth': 2, 'min_samples_leaf': 4}             0.7250   \n",
       "3  {'max_depth': 2, 'min_samples_leaf': 6}             0.6625   \n",
       "4  {'max_depth': 4, 'min_samples_leaf': 1}             0.8625   \n",
       "\n",
       "   split1_test_score  split2_test_score  ...  split2_train_score  \\\n",
       "0             0.8000             0.7875  ...            0.820833   \n",
       "1             0.7750             0.8125  ...            0.819444   \n",
       "2             0.7875             0.7500  ...            0.827778   \n",
       "3             0.7750             0.8000  ...            0.797222   \n",
       "4             0.8500             0.8750  ...            0.920833   \n",
       "\n",
       "   split3_train_score  split4_train_score  split5_train_score  \\\n",
       "0            0.827778            0.826389            0.837500   \n",
       "1            0.818056            0.823611            0.822222   \n",
       "2            0.834722            0.809722            0.841667   \n",
       "3            0.844444            0.825000            0.818056   \n",
       "4            0.936111            0.918056            0.948611   \n",
       "\n",
       "   split6_train_score  split7_train_score  split8_train_score  \\\n",
       "0            0.838889            0.831944            0.822222   \n",
       "1            0.844444            0.836111            0.829167   \n",
       "2            0.816667            0.841667            0.827778   \n",
       "3            0.829167            0.829167            0.811111   \n",
       "4            0.937500            0.938889            0.916667   \n",
       "\n",
       "   split9_train_score  mean_train_score  std_train_score  \n",
       "0            0.845833          0.826806         0.012791  \n",
       "1            0.831944          0.820417         0.017259  \n",
       "2            0.850000          0.827917         0.013227  \n",
       "3            0.820833          0.817778         0.017389  \n",
       "4            0.931944          0.932778         0.010172  \n",
       "\n",
       "[5 rows x 32 columns]"
      ],
      "text/html": [
       "<div>\n",
       "<style scoped>\n",
       "    .dataframe tbody tr th:only-of-type {\n",
       "        vertical-align: middle;\n",
       "    }\n",
       "\n",
       "    .dataframe tbody tr th {\n",
       "        vertical-align: top;\n",
       "    }\n",
       "\n",
       "    .dataframe thead th {\n",
       "        text-align: right;\n",
       "    }\n",
       "</style>\n",
       "<table border=\"1\" class=\"dataframe\">\n",
       "  <thead>\n",
       "    <tr style=\"text-align: right;\">\n",
       "      <th></th>\n",
       "      <th>mean_fit_time</th>\n",
       "      <th>std_fit_time</th>\n",
       "      <th>mean_score_time</th>\n",
       "      <th>std_score_time</th>\n",
       "      <th>param_max_depth</th>\n",
       "      <th>param_min_samples_leaf</th>\n",
       "      <th>params</th>\n",
       "      <th>split0_test_score</th>\n",
       "      <th>split1_test_score</th>\n",
       "      <th>split2_test_score</th>\n",
       "      <th>...</th>\n",
       "      <th>split2_train_score</th>\n",
       "      <th>split3_train_score</th>\n",
       "      <th>split4_train_score</th>\n",
       "      <th>split5_train_score</th>\n",
       "      <th>split6_train_score</th>\n",
       "      <th>split7_train_score</th>\n",
       "      <th>split8_train_score</th>\n",
       "      <th>split9_train_score</th>\n",
       "      <th>mean_train_score</th>\n",
       "      <th>std_train_score</th>\n",
       "    </tr>\n",
       "  </thead>\n",
       "  <tbody>\n",
       "    <tr>\n",
       "      <th>0</th>\n",
       "      <td>0.089936</td>\n",
       "      <td>0.000871</td>\n",
       "      <td>0.003026</td>\n",
       "      <td>0.000121</td>\n",
       "      <td>2</td>\n",
       "      <td>1</td>\n",
       "      <td>{'max_depth': 2, 'min_samples_leaf': 1}</td>\n",
       "      <td>0.7000</td>\n",
       "      <td>0.8000</td>\n",
       "      <td>0.7875</td>\n",
       "      <td>...</td>\n",
       "      <td>0.820833</td>\n",
       "      <td>0.827778</td>\n",
       "      <td>0.826389</td>\n",
       "      <td>0.837500</td>\n",
       "      <td>0.838889</td>\n",
       "      <td>0.831944</td>\n",
       "      <td>0.822222</td>\n",
       "      <td>0.845833</td>\n",
       "      <td>0.826806</td>\n",
       "      <td>0.012791</td>\n",
       "    </tr>\n",
       "    <tr>\n",
       "      <th>1</th>\n",
       "      <td>0.089154</td>\n",
       "      <td>0.000537</td>\n",
       "      <td>0.002938</td>\n",
       "      <td>0.000047</td>\n",
       "      <td>2</td>\n",
       "      <td>2</td>\n",
       "      <td>{'max_depth': 2, 'min_samples_leaf': 2}</td>\n",
       "      <td>0.6375</td>\n",
       "      <td>0.7750</td>\n",
       "      <td>0.8125</td>\n",
       "      <td>...</td>\n",
       "      <td>0.819444</td>\n",
       "      <td>0.818056</td>\n",
       "      <td>0.823611</td>\n",
       "      <td>0.822222</td>\n",
       "      <td>0.844444</td>\n",
       "      <td>0.836111</td>\n",
       "      <td>0.829167</td>\n",
       "      <td>0.831944</td>\n",
       "      <td>0.820417</td>\n",
       "      <td>0.017259</td>\n",
       "    </tr>\n",
       "    <tr>\n",
       "      <th>2</th>\n",
       "      <td>0.088980</td>\n",
       "      <td>0.000716</td>\n",
       "      <td>0.002993</td>\n",
       "      <td>0.000035</td>\n",
       "      <td>2</td>\n",
       "      <td>4</td>\n",
       "      <td>{'max_depth': 2, 'min_samples_leaf': 4}</td>\n",
       "      <td>0.7250</td>\n",
       "      <td>0.7875</td>\n",
       "      <td>0.7500</td>\n",
       "      <td>...</td>\n",
       "      <td>0.827778</td>\n",
       "      <td>0.834722</td>\n",
       "      <td>0.809722</td>\n",
       "      <td>0.841667</td>\n",
       "      <td>0.816667</td>\n",
       "      <td>0.841667</td>\n",
       "      <td>0.827778</td>\n",
       "      <td>0.850000</td>\n",
       "      <td>0.827917</td>\n",
       "      <td>0.013227</td>\n",
       "    </tr>\n",
       "    <tr>\n",
       "      <th>3</th>\n",
       "      <td>0.089484</td>\n",
       "      <td>0.000711</td>\n",
       "      <td>0.002956</td>\n",
       "      <td>0.000069</td>\n",
       "      <td>2</td>\n",
       "      <td>6</td>\n",
       "      <td>{'max_depth': 2, 'min_samples_leaf': 6}</td>\n",
       "      <td>0.6625</td>\n",
       "      <td>0.7750</td>\n",
       "      <td>0.8000</td>\n",
       "      <td>...</td>\n",
       "      <td>0.797222</td>\n",
       "      <td>0.844444</td>\n",
       "      <td>0.825000</td>\n",
       "      <td>0.818056</td>\n",
       "      <td>0.829167</td>\n",
       "      <td>0.829167</td>\n",
       "      <td>0.811111</td>\n",
       "      <td>0.820833</td>\n",
       "      <td>0.817778</td>\n",
       "      <td>0.017389</td>\n",
       "    </tr>\n",
       "    <tr>\n",
       "      <th>4</th>\n",
       "      <td>0.138429</td>\n",
       "      <td>0.000624</td>\n",
       "      <td>0.003095</td>\n",
       "      <td>0.000057</td>\n",
       "      <td>4</td>\n",
       "      <td>1</td>\n",
       "      <td>{'max_depth': 4, 'min_samples_leaf': 1}</td>\n",
       "      <td>0.8625</td>\n",
       "      <td>0.8500</td>\n",
       "      <td>0.8750</td>\n",
       "      <td>...</td>\n",
       "      <td>0.920833</td>\n",
       "      <td>0.936111</td>\n",
       "      <td>0.918056</td>\n",
       "      <td>0.948611</td>\n",
       "      <td>0.937500</td>\n",
       "      <td>0.938889</td>\n",
       "      <td>0.916667</td>\n",
       "      <td>0.931944</td>\n",
       "      <td>0.932778</td>\n",
       "      <td>0.010172</td>\n",
       "    </tr>\n",
       "  </tbody>\n",
       "</table>\n",
       "<p>5 rows × 32 columns</p>\n",
       "</div>"
      ]
     },
     "execution_count": 11,
     "metadata": {},
     "output_type": "execute_result"
    }
   ],
   "execution_count": 11
  },
  {
   "metadata": {},
   "cell_type": "markdown",
   "source": [
    "## Random Search\n",
    "Random Search randomly selects a subset of combinations within the provided sample space. Uniform is the default sampling methodology, though others can be selected.\n",
    "\n",
    "Random Search is less computationally expensive, but likely to find a *good* one *faster*."
   ],
   "id": "827772032e600a29"
  },
  {
   "metadata": {},
   "cell_type": "markdown",
   "source": "### Manual Random Search",
   "id": "3372732ff2d90c46"
  },
  {
   "metadata": {
    "ExecuteTime": {
     "end_time": "2025-06-30T13:26:13.545130Z",
     "start_time": "2025-06-30T13:26:13.542429Z"
    }
   },
   "cell_type": "code",
   "source": [
    "# set hyperparameter limits\n",
    "learn_rates_list = np.linspace(0.001, 2, 150)\n",
    "min_samples_leaf_list = list(range(1,51))\n",
    "\n",
    "# create a list of combinations\n",
    "combinations_list = [list(x) for x in product(learn_rates, min_samples_leaf_list)]\n",
    "\n",
    "# randomly select 100 models\n",
    "random_combinations_index = np.random.choice(\n",
    "    range(0,len(combinations_list)), 100,\n",
    "    replace=False)\n",
    "\n",
    "selected_combinations = [combinations_list[x] for x in random_combinations_index]\n",
    "print(selected_combinations)"
   ],
   "id": "b553ba91b0ff3595",
   "outputs": [
    {
     "name": "stdout",
     "output_type": "stream",
     "text": [
      "[[0.01, 37], [0.05, 13], [0.05, 10], [0.001, 44], [0.01, 47], [0.001, 37], [0.05, 4], [0.001, 3], [0.01, 1], [0.01, 27], [0.001, 34], [0.01, 41], [0.05, 2], [0.001, 49], [0.001, 29], [0.05, 24], [0.01, 22], [0.001, 20], [0.05, 47], [0.01, 48], [0.05, 36], [0.01, 32], [0.001, 28], [0.01, 10], [0.001, 23], [0.05, 44], [0.001, 42], [0.001, 21], [0.05, 37], [0.001, 41], [0.01, 6], [0.05, 25], [0.05, 42], [0.05, 14], [0.05, 38], [0.05, 21], [0.001, 26], [0.05, 33], [0.001, 15], [0.01, 15], [0.01, 5], [0.05, 17], [0.01, 4], [0.01, 44], [0.05, 32], [0.05, 50], [0.01, 8], [0.001, 48], [0.001, 47], [0.05, 45], [0.05, 41], [0.01, 45], [0.001, 36], [0.001, 30], [0.01, 13], [0.001, 16], [0.001, 31], [0.001, 10], [0.05, 35], [0.05, 19], [0.01, 31], [0.05, 15], [0.05, 6], [0.05, 40], [0.01, 24], [0.05, 9], [0.01, 50], [0.05, 43], [0.001, 19], [0.01, 11], [0.001, 39], [0.01, 16], [0.001, 43], [0.05, 11], [0.01, 12], [0.001, 7], [0.001, 32], [0.001, 25], [0.001, 40], [0.05, 30], [0.05, 46], [0.05, 28], [0.05, 7], [0.001, 9], [0.05, 29], [0.001, 11], [0.001, 22], [0.01, 21], [0.05, 39], [0.01, 23], [0.05, 3], [0.01, 9], [0.001, 17], [0.01, 19], [0.01, 33], [0.01, 34], [0.05, 49], [0.05, 5], [0.01, 28], [0.001, 50]]\n"
     ]
    }
   ],
   "execution_count": 12
  },
  {
   "metadata": {},
   "cell_type": "markdown",
   "source": "### Random Search with Scikit Learn",
   "id": "31982fe483c32f98"
  },
  {
   "metadata": {},
   "cell_type": "markdown",
   "source": "When working with RandomSearchCV, there is only one extra step compared to GridSearchCV: decide the number of samples to take.",
   "id": "f299d4ae63619857"
  },
  {
   "metadata": {
    "ExecuteTime": {
     "end_time": "2025-06-30T13:26:15.680620Z",
     "start_time": "2025-06-30T13:26:13.554384Z"
    }
   },
   "cell_type": "code",
   "source": [
    "random_rf_class = RandomizedSearchCV(\n",
    "    estimator=rf_class,\n",
    "    param_distributions=param_grid,\n",
    "    n_iter=10,\n",
    "    scoring='accuracy',\n",
    "    n_jobs=4,\n",
    "    refit=True,\n",
    "    return_train_score=True,\n",
    "    random_state=11,\n",
    "    cv=5\n",
    ")\n",
    "\n",
    "random_rf_class.fit(X_train, y_train)\n",
    "predictions = random_rf_class.predict(X_test)\n",
    "print(accuracy_score(y_test, predictions))"
   ],
   "id": "78e5788a6ff51c9a",
   "outputs": [
    {
     "name": "stdout",
     "output_type": "stream",
     "text": [
      "0.92\n"
     ]
    }
   ],
   "execution_count": 13
  },
  {
   "metadata": {},
   "cell_type": "markdown",
   "source": [
    "Key differences between GridSearchCV and RandomizedSearchCV:\n",
    "- n_iter takes the number of samples for the random search to take from the grid\n",
    "- param_distributions allows for the optional ability to set a distribution for sampling."
   ],
   "id": "1a80b9f05fb4f6d1"
  },
  {
   "metadata": {},
   "cell_type": "markdown",
   "source": "## Visualize results",
   "id": "29ebd5f3c10408b8"
  },
  {
   "metadata": {
    "ExecuteTime": {
     "end_time": "2025-06-30T13:26:15.690318Z",
     "start_time": "2025-06-30T13:26:15.686132Z"
    }
   },
   "cell_type": "code",
   "source": "random_rf_class.cv_results_",
   "id": "8325d714dba57fd6",
   "outputs": [
    {
     "data": {
      "text/plain": [
       "{'mean_fit_time': array([0.17411022, 0.09101014, 0.14467454, 0.15403657, 0.14758253,\n",
       "        0.13203015, 0.13183646, 0.15407786, 0.08524022, 0.15925364]),\n",
       " 'std_fit_time': array([0.00760229, 0.00840289, 0.01213253, 0.00318231, 0.00122361,\n",
       "        0.00336342, 0.00346051, 0.00157725, 0.00042719, 0.00211103]),\n",
       " 'mean_score_time': array([0.0036036 , 0.00361137, 0.00350838, 0.00364003, 0.00363045,\n",
       "        0.00343113, 0.00335035, 0.0036489 , 0.00299754, 0.00362349]),\n",
       " 'std_score_time': array([1.11981894e-04, 7.99614164e-04, 1.33082457e-04, 1.70988419e-04,\n",
       "        9.91311538e-05, 7.13175929e-05, 1.30017554e-04, 4.12381721e-05,\n",
       "        1.38457172e-04, 1.21294570e-04]),\n",
       " 'param_min_samples_leaf': masked_array(data=[1, 6, 4, 4, 6, 1, 2, 4, 4, 2],\n",
       "              mask=[False, False, False, False, False, False, False, False,\n",
       "                    False, False],\n",
       "        fill_value=999999),\n",
       " 'param_max_depth': masked_array(data=[6, 2, 4, 6, 8, 4, 4, 8, 2, 8],\n",
       "              mask=[False, False, False, False, False, False, False, False,\n",
       "                    False, False],\n",
       "        fill_value=999999),\n",
       " 'params': [{'min_samples_leaf': 1, 'max_depth': 6},\n",
       "  {'min_samples_leaf': 6, 'max_depth': 2},\n",
       "  {'min_samples_leaf': 4, 'max_depth': 4},\n",
       "  {'min_samples_leaf': 4, 'max_depth': 6},\n",
       "  {'min_samples_leaf': 6, 'max_depth': 8},\n",
       "  {'min_samples_leaf': 1, 'max_depth': 4},\n",
       "  {'min_samples_leaf': 2, 'max_depth': 4},\n",
       "  {'min_samples_leaf': 4, 'max_depth': 8},\n",
       "  {'min_samples_leaf': 4, 'max_depth': 2},\n",
       "  {'min_samples_leaf': 2, 'max_depth': 8}],\n",
       " 'split0_test_score': array([0.8875 , 0.675  , 0.83125, 0.89375, 0.875  , 0.875  , 0.825  ,\n",
       "        0.90625, 0.6625 , 0.875  ]),\n",
       " 'split1_test_score': array([0.925  , 0.81875, 0.875  , 0.91875, 0.93125, 0.90625, 0.925  ,\n",
       "        0.93125, 0.84375, 0.95   ]),\n",
       " 'split2_test_score': array([0.85625, 0.84375, 0.8875 , 0.86875, 0.85625, 0.88125, 0.8875 ,\n",
       "        0.875  , 0.84375, 0.875  ]),\n",
       " 'split3_test_score': array([0.84375, 0.8375 , 0.825  , 0.8625 , 0.84375, 0.83125, 0.81875,\n",
       "        0.88125, 0.81875, 0.86875]),\n",
       " 'split4_test_score': array([0.85625, 0.725  , 0.8125 , 0.85   , 0.8375 , 0.80625, 0.8    ,\n",
       "        0.85   , 0.7125 , 0.85625]),\n",
       " 'mean_test_score': array([0.87375, 0.78   , 0.84625, 0.87875, 0.86875, 0.86   , 0.85125,\n",
       "        0.88875, 0.77625, 0.885  ]),\n",
       " 'std_test_score': array([0.02942151, 0.06770801, 0.02947457, 0.0245586 , 0.03377314,\n",
       "        0.03614208, 0.04716991, 0.02778264, 0.07472868, 0.03321333]),\n",
       " 'rank_test_score': array([ 4,  9,  8,  3,  5,  6,  7,  1, 10,  2], dtype=int32),\n",
       " 'split0_train_score': array([1.       , 0.7734375, 0.928125 , 0.978125 , 0.9765625, 0.940625 ,\n",
       "        0.9328125, 0.990625 , 0.7609375, 1.       ]),\n",
       " 'split1_train_score': array([0.996875 , 0.8203125, 0.91875  , 0.990625 , 0.9734375, 0.9265625,\n",
       "        0.928125 , 0.9953125, 0.8296875, 1.       ]),\n",
       " 'split2_train_score': array([0.996875 , 0.8390625, 0.9328125, 0.9859375, 0.9796875, 0.9359375,\n",
       "        0.9328125, 0.9984375, 0.828125 , 1.       ]),\n",
       " 'split3_train_score': array([0.9953125, 0.8484375, 0.94375  , 0.9890625, 0.9859375, 0.9375   ,\n",
       "        0.94375  , 0.9921875, 0.859375 , 1.       ]),\n",
       " 'split4_train_score': array([0.9984375, 0.8546875, 0.9328125, 0.9875   , 0.9734375, 0.928125 ,\n",
       "        0.925    , 0.990625 , 0.8375   , 1.       ]),\n",
       " 'mean_train_score': array([0.9975   , 0.8271875, 0.93125  , 0.98625  , 0.9778125, 0.93375  ,\n",
       "        0.9325   , 0.9934375, 0.823125 , 1.       ]),\n",
       " 'std_train_score': array([0.00159344, 0.0292751 , 0.00808886, 0.00435262, 0.00467707,\n",
       "        0.00546652, 0.00635843, 0.0030298 , 0.03303348, 0.        ])}"
      ]
     },
     "execution_count": 14,
     "metadata": {},
     "output_type": "execute_result"
    }
   ],
   "execution_count": 14
  },
  {
   "metadata": {
    "ExecuteTime": {
     "end_time": "2025-06-30T13:26:15.808840Z",
     "start_time": "2025-06-30T13:26:15.697659Z"
    }
   },
   "cell_type": "code",
   "source": [
    "rand_x = list(random_rf_class.cv_results_['std_fit_time'])\n",
    "rand_y = list(random_rf_class.cv_results_['param_min_samples_leaf'])\n",
    "\n",
    "x_lims = [np.min(learn_rates_list), np.max(learn_rates_list)]\n",
    "y_lims = [np.min(min_samples_leaf_list), np.max(min_samples_leaf_list)]\n",
    "\n",
    "plt.scatter(rand_y, rand_x, c=['blue']*10)\n",
    "plt.gca().set(xlabel='std_fit_time', ylabel='min_samples_leaf', title='Random Search Hyperparameters')\n",
    "plt.show()\n"
   ],
   "id": "a2fb38d9874ee9b6",
   "outputs": [
    {
     "data": {
      "text/plain": [
       "<Figure size 640x480 with 1 Axes>"
      ],
      "image/png": "[encoded data removed]"
     },
     "metadata": {},
     "output_type": "display_data"
    }
   ],
   "execution_count": 15
  },
  {
   "metadata": {},
   "cell_type": "markdown",
   "source": [
    "## Considerations\n",
    "Random search may be more valuable than Grid Search if:\n",
    "- There is a large quantity of data\n",
    "- There are a large number of hyperparameter-value combinations\n",
    "- There is limited computational resources"
   ],
   "id": "122d14a136564ce5"
  },
  {
   "metadata": {},
   "cell_type": "markdown",
   "source": [
    "## Informed Search\n",
    "\n",
    "**Coarse to Fine Tuning:** Start with a rough, random approach and iteratively refine the search. This leverages and balances the benefits provided by Grid Search and Random Search.\n",
    "\n",
    "Process:\n",
    "1. Random search\n",
    "2. Find promising areas\n",
    "3. Grid search the smaller area\n",
    "4. Continue until optimal score obtained\n"
   ],
   "id": "51c6f45ed9ba79e"
  },
  {
   "metadata": {},
   "cell_type": "markdown",
   "source": [
    "## Hyperopt\n",
    "\n",
    "A package that leverages Bayes Rule to iteratively update hyperparameter tuning during the learning process.\n",
    "\n",
    "**Bayes Rule:**\n",
    "A method of using new evidence to updates beliefs about some outcome.\n",
    "\n",
    "**Formula:**\n",
    "P(A | B) = ( P(B | A) * P (A) ) / P(B)\n",
    "\n",
    "**Explanation:**\n",
    "- LHS: Probably of A, given B. B is some new evidence (*posterior*)\n",
    "- RHS: Means of calculation\n",
    "- P(A): the probability of the event based on past evidence (*prior*)\n",
    "- P(B): the probability of observing this new evidence. (*marginal likelihood*)\n",
    "- P(B | A): the probability of observing the evidence, given the event in question (*likelihood*)\n",
    "\n",
    "**Process:**\n",
    "1. Set the domain grid\n",
    "2. Set the optimization algorithm (TPE by default)\n",
    "3. Objective function to minimize"
   ],
   "id": "1b86592ad93eaf7c"
  },
  {
   "metadata": {},
   "cell_type": "markdown",
   "source": "### The Domain",
   "id": "ce3a068505ef6dc0"
  },
  {
   "metadata": {
    "ExecuteTime": {
     "end_time": "2025-06-30T13:26:15.816147Z",
     "start_time": "2025-06-30T13:26:15.814200Z"
    }
   },
   "cell_type": "code",
   "source": [
    "# quniform provides a uniform distribution that is quantized (binned) by the third argument\n",
    "space = {\n",
    "    'max_depth': hp.quniform('max_depth', 2, 10, 1),\n",
    "    'min_samples_leaf': hp.quniform('min_samples_leaf', 2, 8, 2),\n",
    "    'learning_rate': hp.uniform('learning_rate', 0.01, 1)\n",
    "}"
   ],
   "id": "cb32c1b5b9ab11cc",
   "outputs": [],
   "execution_count": 16
  },
  {
   "metadata": {},
   "cell_type": "markdown",
   "source": "### The Objective Function",
   "id": "d70eeb7e6f372919"
  },
  {
   "metadata": {
    "ExecuteTime": {
     "end_time": "2025-06-30T13:26:15.824566Z",
     "start_time": "2025-06-30T13:26:15.822686Z"
    }
   },
   "cell_type": "code",
   "source": [
    "def objective(params):\n",
    "    params = {\n",
    "        'max_depth': int(params['max_depth']),\n",
    "        'learning_rate': params['learning_rate']\n",
    "    }\n",
    "\n",
    "    gbm_clf = GradientBoostingClassifier(n_estimators=100, **params)\n",
    "\n",
    "    best_score = cross_val_score(gbm_clf, X_train, y_train,\n",
    "                                 scoring='accuracy', cv=2, n_jobs=4).mean()\n",
    "    loss = 1 - best_score\n",
    "    return loss"
   ],
   "id": "529437dc53427906",
   "outputs": [],
   "execution_count": 17
  },
  {
   "metadata": {},
   "cell_type": "markdown",
   "source": "### Run the algorithm",
   "id": "f96a273754ecd474"
  },
  {
   "metadata": {
    "ExecuteTime": {
     "end_time": "2025-06-30T13:27:02.977905Z",
     "start_time": "2025-06-30T13:26:15.829233Z"
    }
   },
   "cell_type": "code",
   "source": [
    "best_result = fmin(\n",
    "    fn=objective,\n",
    "    space=space,\n",
    "    max_evals=500,\n",
    "    rstate=np.random.default_rng(42),\n",
    "    algo=tpe.suggest\n",
    ")\n",
    "print(best_result)"
   ],
   "id": "2a4b17b8cb6988d4",
   "outputs": [
    {
     "name": "stdout",
     "output_type": "stream",
     "text": [
      "100%|██████████| 500/500 [00:47<00:00, 10.61trial/s, best loss: 0.03249999999999997]\n",
      "{'learning_rate': np.float64(0.9371760673101641), 'max_depth': np.float64(2.0), 'min_samples_leaf': np.float64(2.0)}\n"
     ]
    }
   ],
   "execution_count": 18
  },
  {
   "metadata": {},
   "cell_type": "markdown",
   "source": [
    "## Genetic Algorithms\n",
    "Leverages the concepets behind genetic evolutionary patterns for hyperparameter tuning.\n",
    "\n",
    "1. Create some models\n",
    "2. Pick the best via scoring function (survivors)\n",
    "3. Create new models similar to the best ones\n",
    "4. Add in some randomnes to avoid localizing the optimum\n",
    "5. Repeat as needed"
   ],
   "id": "87bd012bec22e77e"
  },
  {
   "metadata": {},
   "cell_type": "markdown",
   "source": [
    "## TPOT\n",
    "\n",
    "TPOT is a Python automated ML tool that optimizes machine learning pipeliens using genetic programming.\n",
    "\n",
    "__Key Components:__\n",
    "- __generations:__ n iterations to run training\n",
    "- __population_size:__ n models to preserve after each iteration\n",
    "- __offspring_size:__ n models to produce in each iteration\n",
    "- __mutation_rate:__ the proportion of pipeliness on which to apply randomness\n",
    "- __crossover_rate:__ the proportions of pipelines to breed each iteration\n",
    "- __scoring:__ the function to determine the best models\n",
    "- __cv:__ cross-validation strategy"
   ],
   "id": "c6c991c89834bb5d"
  },
  {
   "metadata": {},
   "cell_type": "markdown",
   "source": "### TPOT Example\n",
   "id": "4a40acb6cca8151f"
  },
  {
   "metadata": {
    "ExecuteTime": {
     "end_time": "2025-06-30T13:27:15.626481Z",
     "start_time": "2025-06-30T13:27:02.984912Z"
    }
   },
   "cell_type": "code",
   "source": [
    "from tpot import TPOTClassifier\n",
    "\n",
    "tpot = TPOTClassifier(generations=3, population_size=5, verbosity=2, offspring_size=10, scoring='accuracy', cv=5)\n",
    "\n",
    "tpot.fit(X_train, y_train)\n",
    "score = tpot.score(X_test, y_test)\n",
    "print(score)"
   ],
   "id": "e4a71c86e67bf9e9",
   "outputs": [
    {
     "name": "stdout",
     "output_type": "stream",
     "text": [
      "is_classifier\n",
      "is_regressor\n",
      "is_classifier\n",
      "is_regressor\n",
      "is_classifier\n",
      "is_regressor\n",
      "is_classifier\n",
      "is_classifier\n",
      "is_classifier\n",
      "is_classifier\n",
      "is_regressor\n",
      "is_classifier\n",
      "is_regressor\n",
      "is_classifier\n",
      "is_regressor\n",
      "is_classifier\n",
      "is_regressor\n",
      "is_classifier\n",
      "is_regressor\n",
      "is_classifier\n",
      "is_regressor\n",
      "is_classifier\n",
      "is_regressor\n",
      "is_classifier\n",
      "is_classifier\n",
      "is_classifier\n",
      "is_classifier\n"
     ]
    },
    {
     "name": "stderr",
     "output_type": "stream",
     "text": [
      "/Library/Frameworks/Python.framework/Versions/3.12/lib/python3.12/site-packages/sklearn/base.py:1230: FutureWarning: passing a class to None is deprecated and will be removed in 1.8. Use an instance of the class instead.\n",
      "  warnings.warn(\n",
      "/Library/Frameworks/Python.framework/Versions/3.12/lib/python3.12/site-packages/sklearn/base.py:1270: FutureWarning: passing a class to None is deprecated and will be removed in 1.8. Use an instance of the class instead.\n",
      "  warnings.warn(\n"
     ]
    },
    {
     "name": "stdout",
     "output_type": "stream",
     "text": [
      "is_classifier\n",
      "is_classifier\n",
      "is_classifier\n",
      "is_classifier\n",
      "is_regressor\n",
      "is_classifier\n",
      "is_regressor\n",
      "is_classifier\n",
      "is_regressor\n",
      "is_classifier\n",
      "is_regressor\n",
      "is_classifier\n",
      "is_regressor\n",
      "is_classifier\n",
      "is_regressor\n",
      "is_classifier\n",
      "is_regressor\n",
      "is_classifier\n",
      "is_classifier\n",
      "is_classifier\n",
      "is_regressor\n",
      "is_classifier\n",
      "is_regressor\n",
      "is_classifier\n"
     ]
    },
    {
     "name": "stderr",
     "output_type": "stream",
     "text": [
      "Version 0.12.2 of tpot is outdated. Version 1.0.0 was released Wednesday February 26, 2025.\n"
     ]
    },
    {
     "data": {
      "text/plain": [
       "Optimization Progress:   0%|          | 0/35 [00:00<?, ?pipeline/s]"
      ],
      "application/vnd.jupyter.widget-view+json": {
       "version_major": 2,
       "version_minor": 0,
       "model_id": "7a2d2a5dfb5648759f60ff3bb1baf9e4"
      }
     },
     "metadata": {},
     "output_type": "display_data"
    },
    {
     "name": "stdout",
     "output_type": "stream",
     "text": [
      "\n",
      "Generation 1 - Current best internal CV score: 0.93125\n",
      "\n",
      "Generation 2 - Current best internal CV score: 0.93625\n",
      "\n",
      "Generation 3 - Current best internal CV score: 0.9637499999999999\n",
      "\n",
      "Best pipeline: GradientBoostingClassifier(input_matrix, learning_rate=0.1, max_depth=1, max_features=0.55, min_samples_leaf=8, min_samples_split=8, n_estimators=100, subsample=0.45)\n",
      "0.98\n"
     ]
    }
   ],
   "execution_count": 19
  }
 ],
 "metadata": {
  "kernelspec": {
   "display_name": "Python 3",
   "language": "python",
   "name": "python3"
  },
  "language_info": {
   "codemirror_mode": {
    "name": "ipython",
    "version": 2
   },
   "file_extension": ".py",
   "mimetype": "text/x-python",
   "name": "python",
   "nbconvert_exporter": "python",
   "pygments_lexer": "ipython2",
   "version": "2.7.6"
  }
 },
 "nbformat": 4,
 "nbformat_minor": 5
}
