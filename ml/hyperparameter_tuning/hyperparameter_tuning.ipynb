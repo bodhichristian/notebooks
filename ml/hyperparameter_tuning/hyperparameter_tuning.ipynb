{
 "cells": [
  {
   "metadata": {},
   "cell_type": "markdown",
   "source": "# Hyperparameter Tuning",
   "id": "c337d2180b879180"
  },
  {
   "metadata": {},
   "cell_type": "markdown",
   "source": "Grid search and Random search are automated ways of tuning different hyperparameters. Both require a grid to sample from (which hyperparameter-value combinations), a cross-validation scheme, and a scoring function.",
   "id": "71e4bc32f92e7e4b"
  },
  {
   "metadata": {},
   "cell_type": "markdown",
   "source": [
    "## Grid Search\n",
    "Grid Search exhaustively tries all combinations within the sample space. No sampling methodology is necessary.\n",
    "\n",
    "Grid Search is computational expensive, but guaranteed to find the best score in the sample space."
   ],
   "id": "4c965894728c3a46"
  },
  {
   "metadata": {},
   "cell_type": "markdown",
   "source": [
    "## Random Search\n",
    "Random Search randomly selects a subset of combinations within the provided sample space. Uniform is the default sampling methodology, though others can be selected.\n",
    "\n",
    "Random Search is less computationally expensive, but likely to find a *good* one *faster*."
   ],
   "id": "827772032e600a29"
  },
  {
   "metadata": {},
   "cell_type": "markdown",
   "source": [
    "## Considerations\n",
    "Random search may be more valuable than Grid Search if:\n",
    "- There is a large quantity of data\n",
    "- There are a large number of hyperparameter-value combinations\n",
    "- There is limited computational resources"
   ],
   "id": "122d14a136564ce5"
  },
  {
   "metadata": {},
   "cell_type": "code",
   "outputs": [],
   "execution_count": null,
   "source": "",
   "id": "c286be44d3203cf8"
  }
 ],
 "metadata": {
  "kernelspec": {
   "display_name": "Python 3",
   "language": "python",
   "name": "python3"
  },
  "language_info": {
   "codemirror_mode": {
    "name": "ipython",
    "version": 2
   },
   "file_extension": ".py",
   "mimetype": "text/x-python",
   "name": "python",
   "nbconvert_exporter": "python",
   "pygments_lexer": "ipython2",
   "version": "2.7.6"
  }
 },
 "nbformat": 4,
 "nbformat_minor": 5
}
