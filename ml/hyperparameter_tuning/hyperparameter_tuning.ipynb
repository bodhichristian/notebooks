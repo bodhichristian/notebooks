{
 "cells": [
  {
   "metadata": {},
   "cell_type": "markdown",
   "source": "# Hyperparameter Tuning",
   "id": "c337d2180b879180"
  },
  {
   "metadata": {},
   "cell_type": "markdown",
   "source": "Grid search and Random search are automated ways of tuning different hyperparameters. Both require a grid to sample from (which hyperparameter-value combinations), a cross-validation scheme, and a scoring function.",
   "id": "71e4bc32f92e7e4b"
  },
  {
   "metadata": {},
   "cell_type": "markdown",
   "source": [
    "## Grid Search\n",
    "Grid Search exhaustively tries all combinations within the sample space. No sampling methodology is necessary.\n",
    "\n",
    "Grid Search is computational expensive, but guaranteed to find the best score in the sample space."
   ],
   "id": "4c965894728c3a46"
  },
  {
   "metadata": {},
   "cell_type": "markdown",
   "source": "## Setup",
   "id": "a7fd04cd8ce72a99"
  },
  {
   "metadata": {
    "ExecuteTime": {
     "end_time": "2025-06-18T11:27:55.547125Z",
     "start_time": "2025-06-18T11:27:55.544923Z"
    }
   },
   "cell_type": "code",
   "source": [
    "import pandas as pd\n",
    "from sklearn.metrics import accuracy_score\n",
    "from sklearn.model_selection import train_test_split\n",
    "from sklearn.ensemble import GradientBoostingClassifier\n",
    "from sklearn.metrics import accuracy_score"
   ],
   "id": "98b8ec59d2fe8aeb",
   "outputs": [],
   "execution_count": 26
  },
  {
   "metadata": {
    "ExecuteTime": {
     "end_time": "2025-06-18T11:27:55.561467Z",
     "start_time": "2025-06-18T11:27:55.552788Z"
    }
   },
   "cell_type": "code",
   "source": [
    "df = pd.read_csv('diabetes.csv')\n",
    "df.head()"
   ],
   "id": "5991c172bae9bd26",
   "outputs": [
    {
     "data": {
      "text/plain": [
       "   age   bmi  systolic_bp  diastolic_bp  cholesterol_level  glucose_level  \\\n",
       "0   56  33.4          159            79                205            151   \n",
       "1   69  27.5          135           104                245            146   \n",
       "2   46  43.0          132            66                224            145   \n",
       "3   32  41.0          110            73                292            107   \n",
       "4   60  16.4          112            68                181            140   \n",
       "\n",
       "   activity_level  family_history  smoking_status  diet_score  diabetes_risk  \n",
       "0             358               1               0          10              1  \n",
       "1             219               0               0           9              0  \n",
       "2             105               0               0          10              0  \n",
       "3             374               0               1           6              0  \n",
       "4              69               1               1           7              0  "
      ],
      "text/html": [
       "<div>\n",
       "<style scoped>\n",
       "    .dataframe tbody tr th:only-of-type {\n",
       "        vertical-align: middle;\n",
       "    }\n",
       "\n",
       "    .dataframe tbody tr th {\n",
       "        vertical-align: top;\n",
       "    }\n",
       "\n",
       "    .dataframe thead th {\n",
       "        text-align: right;\n",
       "    }\n",
       "</style>\n",
       "<table border=\"1\" class=\"dataframe\">\n",
       "  <thead>\n",
       "    <tr style=\"text-align: right;\">\n",
       "      <th></th>\n",
       "      <th>age</th>\n",
       "      <th>bmi</th>\n",
       "      <th>systolic_bp</th>\n",
       "      <th>diastolic_bp</th>\n",
       "      <th>cholesterol_level</th>\n",
       "      <th>glucose_level</th>\n",
       "      <th>activity_level</th>\n",
       "      <th>family_history</th>\n",
       "      <th>smoking_status</th>\n",
       "      <th>diet_score</th>\n",
       "      <th>diabetes_risk</th>\n",
       "    </tr>\n",
       "  </thead>\n",
       "  <tbody>\n",
       "    <tr>\n",
       "      <th>0</th>\n",
       "      <td>56</td>\n",
       "      <td>33.4</td>\n",
       "      <td>159</td>\n",
       "      <td>79</td>\n",
       "      <td>205</td>\n",
       "      <td>151</td>\n",
       "      <td>358</td>\n",
       "      <td>1</td>\n",
       "      <td>0</td>\n",
       "      <td>10</td>\n",
       "      <td>1</td>\n",
       "    </tr>\n",
       "    <tr>\n",
       "      <th>1</th>\n",
       "      <td>69</td>\n",
       "      <td>27.5</td>\n",
       "      <td>135</td>\n",
       "      <td>104</td>\n",
       "      <td>245</td>\n",
       "      <td>146</td>\n",
       "      <td>219</td>\n",
       "      <td>0</td>\n",
       "      <td>0</td>\n",
       "      <td>9</td>\n",
       "      <td>0</td>\n",
       "    </tr>\n",
       "    <tr>\n",
       "      <th>2</th>\n",
       "      <td>46</td>\n",
       "      <td>43.0</td>\n",
       "      <td>132</td>\n",
       "      <td>66</td>\n",
       "      <td>224</td>\n",
       "      <td>145</td>\n",
       "      <td>105</td>\n",
       "      <td>0</td>\n",
       "      <td>0</td>\n",
       "      <td>10</td>\n",
       "      <td>0</td>\n",
       "    </tr>\n",
       "    <tr>\n",
       "      <th>3</th>\n",
       "      <td>32</td>\n",
       "      <td>41.0</td>\n",
       "      <td>110</td>\n",
       "      <td>73</td>\n",
       "      <td>292</td>\n",
       "      <td>107</td>\n",
       "      <td>374</td>\n",
       "      <td>0</td>\n",
       "      <td>1</td>\n",
       "      <td>6</td>\n",
       "      <td>0</td>\n",
       "    </tr>\n",
       "    <tr>\n",
       "      <th>4</th>\n",
       "      <td>60</td>\n",
       "      <td>16.4</td>\n",
       "      <td>112</td>\n",
       "      <td>68</td>\n",
       "      <td>181</td>\n",
       "      <td>140</td>\n",
       "      <td>69</td>\n",
       "      <td>1</td>\n",
       "      <td>1</td>\n",
       "      <td>7</td>\n",
       "      <td>0</td>\n",
       "    </tr>\n",
       "  </tbody>\n",
       "</table>\n",
       "</div>"
      ]
     },
     "execution_count": 27,
     "metadata": {},
     "output_type": "execute_result"
    }
   ],
   "execution_count": 27
  },
  {
   "metadata": {},
   "cell_type": "markdown",
   "source": "## Train, test, split",
   "id": "8a17a36824b2b9d7"
  },
  {
   "metadata": {
    "ExecuteTime": {
     "end_time": "2025-06-18T11:27:55.582481Z",
     "start_time": "2025-06-18T11:27:55.577703Z"
    }
   },
   "cell_type": "code",
   "source": [
    "X = df.drop('diabetes_risk', axis=1)\n",
    "y = df['diabetes_risk']\n",
    "X_train, X_test, y_train, y_test = train_test_split(X, y, test_size=0.2, random_state=1)"
   ],
   "id": "51f8dbdf35d082",
   "outputs": [],
   "execution_count": 28
  },
  {
   "metadata": {},
   "cell_type": "markdown",
   "source": "## Automating hyperparameters",
   "id": "715808faee7ae4a3"
  },
  {
   "metadata": {
    "ExecuteTime": {
     "end_time": "2025-06-18T11:27:55.589798Z",
     "start_time": "2025-06-18T11:27:55.587836Z"
    }
   },
   "cell_type": "code",
   "source": [
    "def gbm_grid_search(learn_rate, max_depth):\n",
    "    model = GradientBoostingClassifier(\n",
    "        learning_rate=learn_rate,\n",
    "        max_depth=max_depth,\n",
    "    )\n",
    "    predictions = model.fit(X_train, y_train).predict(X_test)\n",
    "    return [learn_rate, max_depth, accuracy_score(y_test, predictions)]"
   ],
   "id": "83509b108a7f7ceb",
   "outputs": [],
   "execution_count": 29
  },
  {
   "metadata": {
    "ExecuteTime": {
     "end_time": "2025-06-18T11:27:59.256713Z",
     "start_time": "2025-06-18T11:27:55.593895Z"
    }
   },
   "cell_type": "code",
   "source": [
    "learn_rates = [0.001, 0.01, 0.05]\n",
    "max_depths = [4,6,8,10]\n",
    "results_list = []\n",
    "\n",
    "for learn_rate in learn_rates:\n",
    "    for max_depth in max_depths:\n",
    "        results_list.append(gbm_grid_search(learn_rate, max_depth))\n",
    "\n",
    "results_df = pd.DataFrame(results_list, columns=['learn_rate', 'max_depth', 'accuracy'])\n",
    "\n",
    "results_df"
   ],
   "id": "8df5ad3e7fee7eae",
   "outputs": [
    {
     "data": {
      "text/plain": [
       "    learn_rate  max_depth  accuracy\n",
       "0        0.001          4     0.755\n",
       "1        0.001          6     0.790\n",
       "2        0.001          8     0.860\n",
       "3        0.001         10     0.850\n",
       "4        0.010          4     0.920\n",
       "5        0.010          6     0.860\n",
       "6        0.010          8     0.825\n",
       "7        0.010         10     0.850\n",
       "8        0.050          4     0.965\n",
       "9        0.050          6     0.920\n",
       "10       0.050          8     0.880\n",
       "11       0.050         10     0.845"
      ],
      "text/html": [
       "<div>\n",
       "<style scoped>\n",
       "    .dataframe tbody tr th:only-of-type {\n",
       "        vertical-align: middle;\n",
       "    }\n",
       "\n",
       "    .dataframe tbody tr th {\n",
       "        vertical-align: top;\n",
       "    }\n",
       "\n",
       "    .dataframe thead th {\n",
       "        text-align: right;\n",
       "    }\n",
       "</style>\n",
       "<table border=\"1\" class=\"dataframe\">\n",
       "  <thead>\n",
       "    <tr style=\"text-align: right;\">\n",
       "      <th></th>\n",
       "      <th>learn_rate</th>\n",
       "      <th>max_depth</th>\n",
       "      <th>accuracy</th>\n",
       "    </tr>\n",
       "  </thead>\n",
       "  <tbody>\n",
       "    <tr>\n",
       "      <th>0</th>\n",
       "      <td>0.001</td>\n",
       "      <td>4</td>\n",
       "      <td>0.755</td>\n",
       "    </tr>\n",
       "    <tr>\n",
       "      <th>1</th>\n",
       "      <td>0.001</td>\n",
       "      <td>6</td>\n",
       "      <td>0.790</td>\n",
       "    </tr>\n",
       "    <tr>\n",
       "      <th>2</th>\n",
       "      <td>0.001</td>\n",
       "      <td>8</td>\n",
       "      <td>0.860</td>\n",
       "    </tr>\n",
       "    <tr>\n",
       "      <th>3</th>\n",
       "      <td>0.001</td>\n",
       "      <td>10</td>\n",
       "      <td>0.850</td>\n",
       "    </tr>\n",
       "    <tr>\n",
       "      <th>4</th>\n",
       "      <td>0.010</td>\n",
       "      <td>4</td>\n",
       "      <td>0.920</td>\n",
       "    </tr>\n",
       "    <tr>\n",
       "      <th>5</th>\n",
       "      <td>0.010</td>\n",
       "      <td>6</td>\n",
       "      <td>0.860</td>\n",
       "    </tr>\n",
       "    <tr>\n",
       "      <th>6</th>\n",
       "      <td>0.010</td>\n",
       "      <td>8</td>\n",
       "      <td>0.825</td>\n",
       "    </tr>\n",
       "    <tr>\n",
       "      <th>7</th>\n",
       "      <td>0.010</td>\n",
       "      <td>10</td>\n",
       "      <td>0.850</td>\n",
       "    </tr>\n",
       "    <tr>\n",
       "      <th>8</th>\n",
       "      <td>0.050</td>\n",
       "      <td>4</td>\n",
       "      <td>0.965</td>\n",
       "    </tr>\n",
       "    <tr>\n",
       "      <th>9</th>\n",
       "      <td>0.050</td>\n",
       "      <td>6</td>\n",
       "      <td>0.920</td>\n",
       "    </tr>\n",
       "    <tr>\n",
       "      <th>10</th>\n",
       "      <td>0.050</td>\n",
       "      <td>8</td>\n",
       "      <td>0.880</td>\n",
       "    </tr>\n",
       "    <tr>\n",
       "      <th>11</th>\n",
       "      <td>0.050</td>\n",
       "      <td>10</td>\n",
       "      <td>0.845</td>\n",
       "    </tr>\n",
       "  </tbody>\n",
       "</table>\n",
       "</div>"
      ]
     },
     "execution_count": 30,
     "metadata": {},
     "output_type": "execute_result"
    }
   ],
   "execution_count": 30
  },
  {
   "metadata": {},
   "cell_type": "markdown",
   "source": "## Grid Search with Scikit Learn",
   "id": "e24c9879b3479933"
  },
  {
   "metadata": {},
   "cell_type": "code",
   "outputs": [],
   "execution_count": null,
   "source": "",
   "id": "410eeb57257e5b75"
  },
  {
   "metadata": {},
   "cell_type": "markdown",
   "source": [
    "## Random Search\n",
    "Random Search randomly selects a subset of combinations within the provided sample space. Uniform is the default sampling methodology, though others can be selected.\n",
    "\n",
    "Random Search is less computationally expensive, but likely to find a *good* one *faster*."
   ],
   "id": "827772032e600a29"
  },
  {
   "metadata": {},
   "cell_type": "markdown",
   "source": [
    "## Considerations\n",
    "Random search may be more valuable than Grid Search if:\n",
    "- There is a large quantity of data\n",
    "- There are a large number of hyperparameter-value combinations\n",
    "- There is limited computational resources"
   ],
   "id": "122d14a136564ce5"
  },
  {
   "metadata": {
    "ExecuteTime": {
     "end_time": "2025-06-18T11:27:59.273831Z",
     "start_time": "2025-06-18T11:27:59.272503Z"
    }
   },
   "cell_type": "code",
   "source": "",
   "id": "c286be44d3203cf8",
   "outputs": [],
   "execution_count": null
  }
 ],
 "metadata": {
  "kernelspec": {
   "display_name": "Python 3",
   "language": "python",
   "name": "python3"
  },
  "language_info": {
   "codemirror_mode": {
    "name": "ipython",
    "version": 2
   },
   "file_extension": ".py",
   "mimetype": "text/x-python",
   "name": "python",
   "nbconvert_exporter": "python",
   "pygments_lexer": "ipython2",
   "version": "2.7.6"
  }
 },
 "nbformat": 4,
 "nbformat_minor": 5
}
